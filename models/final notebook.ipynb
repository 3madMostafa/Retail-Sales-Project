{
  "cells": [
    {
      "cell_type": "markdown",
      "metadata": {
        "id": "y8bdtAaxqcRo"
      },
      "source": [
        "\n",
        "\n",
        "## 1.1 Loading of Libraries\n",
        "### Load all the libraries to be used"
      ]
    },
    {
      "cell_type": "code",
      "execution_count": null,
      "metadata": {
        "colab": {
          "base_uri": "https://localhost:8080/",
          "height": 17
        },
        "id": "OSetbgJEoP3u",
        "outputId": "995f25f1-ee73-4f78-eb12-89b2f37b5135"
      },
      "outputs": [
        {
          "ename": "",
          "evalue": "",
          "output_type": "error",
          "traceback": [
            "\u001b[1;31mFailed to start the Kernel. \n",
            "\u001b[1;31mUnable to start Kernel 'Python 3.12.3' due to a timeout waiting for the ports to get used. \n",
            "\u001b[1;31mView Jupyter <a href='command:jupyter.viewOutput'>log</a> for further details."
          ]
        }
      ],
      "source": [
        "# Basic Libraries\n",
        "import numpy as np\n",
        "import pandas as pd\n",
        "\n",
        "# Visualization\n",
        "import seaborn as sns\n",
        "import matplotlib.pyplot as plt\n",
        "import matplotlib.style as style\n",
        "import plotly.express as px\n",
        "from plotly.subplots import make_subplots\n",
        "import plotly.figure_factory as ff\n",
        "import plotly.offline as offline\n",
        "import plotly.graph_objects as go\n",
        "offline.init_notebook_mode(connected=True)\n",
        "\n",
        "%matplotlib inline\n",
        "\n",
        "# Machine Learning and Statistics\n",
        "from sklearn.model_selection import train_test_split, cross_val_predict, cross_val_score\n",
        "from sklearn.impute import SimpleImputer\n",
        "from sklearn.preprocessing import StandardScaler, LabelEncoder\n",
        "from sklearn.metrics import r2_score, mean_absolute_error, mean_squared_error\n",
        "\n",
        "from sklearn.linear_model import LinearRegression, LogisticRegression\n",
        "from sklearn.tree import DecisionTreeClassifier\n",
        "from sklearn.ensemble import RandomForestClassifier, GradientBoostingClassifier, AdaBoostClassifier\n",
        "from sklearn.svm import SVC\n",
        "from sklearn.neighbors import KNeighborsClassifier\n",
        "from sklearn.naive_bayes import GaussianNB\n",
        "from sklearn.neural_network import MLPClassifier\n",
        "import xgboost as xgb\n",
        "from sklearn.preprocessing import PolynomialFeatures\n",
        "from sklearn.pipeline import Pipeline\n",
        "\n",
        "# Deep Learning\n",
        "from tensorflow.keras.models import Sequential\n",
        "from tensorflow.keras.layers import Dense, Dropout\n",
        "from tensorflow.keras.callbacks import EarlyStopping\n",
        "from tensorflow.keras.models import load_model\n",
        "from tensorflow.keras.optimizers import Adam\n",
        "\n",
        "# Statistics\n",
        "from statsmodels.distributions.empirical_distribution import ECDF\n",
        "\n",
        "# Time Series Analysis\n",
        "from statsmodels.tsa.seasonal import seasonal_decompose\n",
        "from statsmodels.graphics.tsaplots import plot_acf, plot_pacf\n",
        "\n",
        "\n",
        "# Ignore warnings\n",
        "import warnings\n",
        "warnings.filterwarnings('ignore')"
      ]
    },
    {
      "cell_type": "markdown",
      "metadata": {
        "id": "qNX5h7vMqwQs"
      },
      "source": [
        "\n",
        "## 1.2 Loading of Datasets\n",
        "### Let us load the datasets"
      ]
    },
    {
      "cell_type": "code",
      "execution_count": null,
      "metadata": {
        "id": "doz6gQYCoS-I"
      },
      "outputs": [
        {
          "ename": "",
          "evalue": "",
          "output_type": "error",
          "traceback": [
            "\u001b[1;31mFailed to start the Kernel. \n",
            "\u001b[1;31mUnable to start Kernel 'Python 3.12.3' due to a timeout waiting for the ports to get used. \n",
            "\u001b[1;31mView Jupyter <a href='command:jupyter.viewOutput'>log</a> for further details."
          ]
        }
      ],
      "source": [
        "from google.colab import files\n",
        "import os"
      ]
    },
    {
      "cell_type": "code",
      "execution_count": null,
      "metadata": {
        "colab": {
          "base_uri": "https://localhost:8080/",
          "height": 90
        },
        "id": "AiACgmcjoS29",
        "outputId": "de5e5093-c617-415e-ef0a-dac91123222d"
      },
      "outputs": [
        {
          "ename": "",
          "evalue": "",
          "output_type": "error",
          "traceback": [
            "\u001b[1;31mFailed to start the Kernel. \n",
            "\u001b[1;31mUnable to start Kernel 'Python 3.12.3' due to a timeout waiting for the ports to get used. \n",
            "\u001b[1;31mView Jupyter <a href='command:jupyter.viewOutput'>log</a> for further details."
          ]
        }
      ],
      "source": [
        "files.upload()"
      ]
    },
    {
      "cell_type": "code",
      "execution_count": null,
      "metadata": {
        "id": "6x3RBILpoSwZ"
      },
      "outputs": [
        {
          "ename": "",
          "evalue": "",
          "output_type": "error",
          "traceback": [
            "\u001b[1;31mFailed to start the Kernel. \n",
            "\u001b[1;31mUnable to start Kernel 'Python 3.12.3' due to a timeout waiting for the ports to get used. \n",
            "\u001b[1;31mView Jupyter <a href='command:jupyter.viewOutput'>log</a> for further details."
          ]
        }
      ],
      "source": [
        "os.makedirs('/root/.kaggle', exist_ok=True)\n",
        "!mv kaggle.json /root/.kaggle/\n",
        "!chmod 600 /root/.kaggle/kaggle.json"
      ]
    },
    {
      "cell_type": "code",
      "execution_count": null,
      "metadata": {
        "colab": {
          "base_uri": "https://localhost:8080/"
        },
        "id": "siYYtLtmoSm6",
        "outputId": "070351a6-aa51-4045-a65e-a546fa8adf0a"
      },
      "outputs": [
        {
          "ename": "",
          "evalue": "",
          "output_type": "error",
          "traceback": [
            "\u001b[1;31mFailed to start the Kernel. \n",
            "\u001b[1;31mUnable to start Kernel 'Python 3.12.3' due to a timeout waiting for the ports to get used. \n",
            "\u001b[1;31mView Jupyter <a href='command:jupyter.viewOutput'>log</a> for further details."
          ]
        }
      ],
      "source": [
        "!kaggle competitions download -c store-sales-time-series-forecasting\n"
      ]
    },
    {
      "cell_type": "code",
      "execution_count": null,
      "metadata": {
        "colab": {
          "base_uri": "https://localhost:8080/"
        },
        "id": "_FUXK062ogH0",
        "outputId": "e0f49fe9-8ec6-4427-ce3b-eaa6de90b215"
      },
      "outputs": [
        {
          "ename": "",
          "evalue": "",
          "output_type": "error",
          "traceback": [
            "\u001b[1;31mFailed to start the Kernel. \n",
            "\u001b[1;31mUnable to start Kernel 'Python 3.12.3' due to a timeout waiting for the ports to get used. \n",
            "\u001b[1;31mView Jupyter <a href='command:jupyter.viewOutput'>log</a> for further details."
          ]
        }
      ],
      "source": [
        "!unzip store-sales-time-series-forecasting.zip"
      ]
    },
    {
      "cell_type": "code",
      "execution_count": null,
      "metadata": {
        "id": "oRoxq5zPuNb6"
      },
      "outputs": [
        {
          "ename": "",
          "evalue": "",
          "output_type": "error",
          "traceback": [
            "\u001b[1;31mFailed to start the Kernel. \n",
            "\u001b[1;31mUnable to start Kernel 'Python 3.12.3' due to a timeout waiting for the ports to get used. \n",
            "\u001b[1;31mView Jupyter <a href='command:jupyter.viewOutput'>log</a> for further details."
          ]
        }
      ],
      "source": [
        "# Load CSV files\n",
        "train_path = r'/content/train.csv'\n",
        "oil_path = r'/content/oil.csv'\n",
        "transactions_path = r'/content/transactions.csv'\n",
        "holidays_path = r'/content/holidays_events.csv'\n",
        "store_data = r'/content/stores.csv'\n",
        "test_data = r'/content/test.csv'\n",
        "\n",
        "# Load datasets\n",
        "train = pd.read_csv(train_path)\n",
        "oil = pd.read_csv(oil_path)\n",
        "transactions = pd.read_csv(transactions_path)\n",
        "holidays = pd.read_csv(holidays_path)\n",
        "store = pd.read_csv(store_data)\n",
        "test = pd.read_csv(test_data)"
      ]
    },
    {
      "cell_type": "markdown",
      "metadata": {
        "id": "zj09OFpNs-bA"
      },
      "source": [
        "# <span style='color:dodgerblue; font-weight:bold;'><a name=\"2\">2 - Exploratory Data Analysis</a></span>"
      ]
    },
    {
      "cell_type": "markdown",
      "metadata": {
        "id": "Uq8XA84OtL13"
      },
      "source": [
        "\n",
        "\n",
        "### <span style='color:aqua; font-weight:bold;'><a name=\"2.1\">2.1 - Exploration of Data</a></span>"
      ]
    },
    {
      "cell_type": "code",
      "execution_count": null,
      "metadata": {
        "id": "KjbQm9F4rGxU"
      },
      "outputs": [
        {
          "ename": "",
          "evalue": "",
          "output_type": "error",
          "traceback": [
            "\u001b[1;31mFailed to start the Kernel. \n",
            "\u001b[1;31mUnable to start Kernel 'Python 3.12.3' due to a timeout waiting for the ports to get used. \n",
            "\u001b[1;31mView Jupyter <a href='command:jupyter.viewOutput'>log</a> for further details."
          ]
        }
      ],
      "source": [
        "def show(df):\n",
        "\n",
        "    print(\"TOP 5 RECORDS\")\n",
        "    display(df.head())\n",
        "\n",
        "\n",
        "    print(\"\\n INFO\")\n",
        "    display(df.info())\n",
        "\n",
        "\n",
        "    print(\"\\n Describe\")\n",
        "    display(df.describe())\n",
        "\n",
        "\n",
        "    print(\"\\n Columns\")\n",
        "    display(df.columns)\n",
        "\n",
        "\n",
        "    print(\"\\n Missing Values\")\n",
        "    display(df.isnull().sum())\n",
        "\n",
        "\n",
        "    print(\"\\n Shape Of Data\")\n",
        "    display(df.shape)\n",
        "\n",
        "\n",
        "    print(\"============================================================================ \\n\")"
      ]
    },
    {
      "cell_type": "code",
      "execution_count": null,
      "metadata": {
        "colab": {
          "base_uri": "https://localhost:8080/",
          "height": 1000
        },
        "id": "gfNXfURptb49",
        "outputId": "6fc4d8dd-5338-46fb-a866-096773aabc26"
      },
      "outputs": [
        {
          "ename": "",
          "evalue": "",
          "output_type": "error",
          "traceback": [
            "\u001b[1;31mFailed to start the Kernel. \n",
            "\u001b[1;31mUnable to start Kernel 'Python 3.12.3' due to a timeout waiting for the ports to get used. \n",
            "\u001b[1;31mView Jupyter <a href='command:jupyter.viewOutput'>log</a> for further details."
          ]
        }
      ],
      "source": [
        "# Exploring the train dataset\n",
        "\n",
        "print(\"=================================Train Data=================================\")\n",
        "\n",
        "show(train)\n"
      ]
    },
    {
      "cell_type": "code",
      "execution_count": null,
      "metadata": {
        "colab": {
          "base_uri": "https://localhost:8080/",
          "height": 1000
        },
        "id": "oaAJoqdqtkA2",
        "outputId": "6c304d64-bd7d-432f-b7db-67bded749c05"
      },
      "outputs": [
        {
          "ename": "",
          "evalue": "",
          "output_type": "error",
          "traceback": [
            "\u001b[1;31mFailed to start the Kernel. \n",
            "\u001b[1;31mUnable to start Kernel 'Python 3.12.3' due to a timeout waiting for the ports to get used. \n",
            "\u001b[1;31mView Jupyter <a href='command:jupyter.viewOutput'>log</a> for further details."
          ]
        }
      ],
      "source": [
        "# Exploring the test dataset\n",
        "\n",
        "print(\"=================================Test Data=================================\")\n",
        "\n",
        "show(test)\n"
      ]
    },
    {
      "cell_type": "code",
      "execution_count": null,
      "metadata": {
        "colab": {
          "base_uri": "https://localhost:8080/",
          "height": 1000
        },
        "id": "1Kgyh2oEtokE",
        "outputId": "a8ac5fff-d753-42ed-f021-7604c66de7a7"
      },
      "outputs": [
        {
          "ename": "",
          "evalue": "",
          "output_type": "error",
          "traceback": [
            "\u001b[1;31mFailed to start the Kernel. \n",
            "\u001b[1;31mUnable to start Kernel 'Python 3.12.3' due to a timeout waiting for the ports to get used. \n",
            "\u001b[1;31mView Jupyter <a href='command:jupyter.viewOutput'>log</a> for further details."
          ]
        }
      ],
      "source": [
        "# Exploring the holidays events dataset\n",
        "\n",
        "print(\"=================================Holidays Events=================================\")\n",
        "\n",
        "show(holidays)"
      ]
    },
    {
      "cell_type": "code",
      "execution_count": null,
      "metadata": {
        "colab": {
          "base_uri": "https://localhost:8080/",
          "height": 1000
        },
        "id": "g6kzq0AFttDS",
        "outputId": "9ab7234a-4ed5-4ae2-e57f-e9e4cf840781"
      },
      "outputs": [
        {
          "ename": "",
          "evalue": "",
          "output_type": "error",
          "traceback": [
            "\u001b[1;31mFailed to start the Kernel. \n",
            "\u001b[1;31mUnable to start Kernel 'Python 3.12.3' due to a timeout waiting for the ports to get used. \n",
            "\u001b[1;31mView Jupyter <a href='command:jupyter.viewOutput'>log</a> for further details."
          ]
        }
      ],
      "source": [
        "# Exploring the transactions dataset\n",
        "\n",
        "print(\"=================================Transactions Data=================================\")\n",
        "\n",
        "show(transactions)"
      ]
    },
    {
      "cell_type": "code",
      "execution_count": null,
      "metadata": {
        "colab": {
          "base_uri": "https://localhost:8080/",
          "height": 1000
        },
        "id": "IIDw9KC4twib",
        "outputId": "0bd0edd8-8acb-40ef-8cff-531a1f10458f"
      },
      "outputs": [
        {
          "ename": "",
          "evalue": "",
          "output_type": "error",
          "traceback": [
            "\u001b[1;31mFailed to start the Kernel. \n",
            "\u001b[1;31mUnable to start Kernel 'Python 3.12.3' due to a timeout waiting for the ports to get used. \n",
            "\u001b[1;31mView Jupyter <a href='command:jupyter.viewOutput'>log</a> for further details."
          ]
        }
      ],
      "source": [
        "# Exploring the stores dataset\n",
        "\n",
        "print(\"=================================Stores Data=================================\")\n",
        "\n",
        "show(store)"
      ]
    },
    {
      "cell_type": "code",
      "execution_count": null,
      "metadata": {
        "colab": {
          "base_uri": "https://localhost:8080/",
          "height": 1000
        },
        "id": "r2GbJ58at4Hp",
        "outputId": "66555754-9fe6-4cd6-9d47-dba124743ba3"
      },
      "outputs": [
        {
          "ename": "",
          "evalue": "",
          "output_type": "error",
          "traceback": [
            "\u001b[1;31mFailed to start the Kernel. \n",
            "\u001b[1;31mUnable to start Kernel 'Python 3.12.3' due to a timeout waiting for the ports to get used. \n",
            "\u001b[1;31mView Jupyter <a href='command:jupyter.viewOutput'>log</a> for further details."
          ]
        }
      ],
      "source": [
        "# Exploring the oil dataset\n",
        "\n",
        "print(\"=================================Oil Data=================================\")\n",
        "\n",
        "show(oil)"
      ]
    },
    {
      "cell_type": "markdown",
      "metadata": {
        "id": "UOJKylIQ7YEL"
      },
      "source": [
        "\n",
        "\n",
        "### <span style='color:aqua; font-weight:bold;'><a name=\"2.2\">2.2 - Check_duplicates</a></span>"
      ]
    },
    {
      "cell_type": "code",
      "execution_count": null,
      "metadata": {
        "id": "0RsahwLD7zAC"
      },
      "outputs": [
        {
          "ename": "",
          "evalue": "",
          "output_type": "error",
          "traceback": [
            "\u001b[1;31mFailed to start the Kernel. \n",
            "\u001b[1;31mUnable to start Kernel 'Python 3.12.3' due to a timeout waiting for the ports to get used. \n",
            "\u001b[1;31mView Jupyter <a href='command:jupyter.viewOutput'>log</a> for further details."
          ]
        }
      ],
      "source": [
        "dataframes = {\n",
        "    'train': train,\n",
        "    'test':test,\n",
        "    'transaction': transactions,\n",
        "    'stores': store,\n",
        "    'oil': oil,\n",
        "    'holiday': holidays\n",
        "}\n"
      ]
    },
    {
      "cell_type": "code",
      "execution_count": null,
      "metadata": {
        "id": "X9GHRbLG714q"
      },
      "outputs": [
        {
          "ename": "",
          "evalue": "",
          "output_type": "error",
          "traceback": [
            "\u001b[1;31mFailed to start the Kernel. \n",
            "\u001b[1;31mUnable to start Kernel 'Python 3.12.3' due to a timeout waiting for the ports to get used. \n",
            "\u001b[1;31mView Jupyter <a href='command:jupyter.viewOutput'>log</a> for further details."
          ]
        }
      ],
      "source": [
        "def check_duplicates(dataframes):\n",
        "    for name, df in dataframes.items():\n",
        "        duplicates = df[df.duplicated()]\n",
        "        print(f\"\\nChecking duplicates in {name.capitalize()} dataset:\")\n",
        "        if duplicates.empty:\n",
        "            print(\"No duplicates found.\")\n",
        "        else:\n",
        "            print(f\"Number of duplicate rows: {duplicates.shape[0]}\")\n",
        "            print(duplicates)\n",
        "        print(\"*\" * 40)\n"
      ]
    },
    {
      "cell_type": "code",
      "execution_count": null,
      "metadata": {
        "colab": {
          "base_uri": "https://localhost:8080/"
        },
        "id": "LyRwSGYH75DT",
        "outputId": "184b5af8-2db4-4cd7-8f35-0d2cfb281830"
      },
      "outputs": [
        {
          "ename": "",
          "evalue": "",
          "output_type": "error",
          "traceback": [
            "\u001b[1;31mFailed to start the Kernel. \n",
            "\u001b[1;31mUnable to start Kernel 'Python 3.12.3' due to a timeout waiting for the ports to get used. \n",
            "\u001b[1;31mView Jupyter <a href='command:jupyter.viewOutput'>log</a> for further details."
          ]
        }
      ],
      "source": [
        "check_duplicates(dataframes)"
      ]
    },
    {
      "cell_type": "markdown",
      "metadata": {
        "id": "GHchD_h6t-TL"
      },
      "source": [
        "### <span style='color:aqua; font-weight:bold;'> Data preparing </span>"
      ]
    },
    {
      "cell_type": "code",
      "execution_count": null,
      "metadata": {
        "id": "JqpVen54t9rU"
      },
      "outputs": [
        {
          "ename": "",
          "evalue": "",
          "output_type": "error",
          "traceback": [
            "\u001b[1;31mFailed to start the Kernel. \n",
            "\u001b[1;31mUnable to start Kernel 'Python 3.12.3' due to a timeout waiting for the ports to get used. \n",
            "\u001b[1;31mView Jupyter <a href='command:jupyter.viewOutput'>log</a> for further details."
          ]
        }
      ],
      "source": [
        "train['date'] = pd.to_datetime(train['date'])\n",
        "\n",
        "test['date'] = pd.to_datetime(test['date'])\n",
        "\n",
        "holidays['date'] = pd.to_datetime(holidays['date'])\n",
        "\n",
        "transactions['date'] = pd.to_datetime(transactions['date'])\n",
        "\n",
        "oil['date'] = pd.to_datetime(oil['date'])"
      ]
    },
    {
      "cell_type": "markdown",
      "metadata": {
        "id": "lNV_kmfiRVeP"
      },
      "source": [
        "Renaming 'dcoilwtico' Column to 'daily_oil_prices' in Oil Dataset\n",
        "\n"
      ]
    },
    {
      "cell_type": "code",
      "execution_count": null,
      "metadata": {
        "id": "xVjjubxUvPVC"
      },
      "outputs": [
        {
          "ename": "",
          "evalue": "",
          "output_type": "error",
          "traceback": [
            "\u001b[1;31mFailed to start the Kernel. \n",
            "\u001b[1;31mUnable to start Kernel 'Python 3.12.3' due to a timeout waiting for the ports to get used. \n",
            "\u001b[1;31mView Jupyter <a href='command:jupyter.viewOutput'>log</a> for further details."
          ]
        }
      ],
      "source": [
        "oil.rename(columns={'dcoilwtico': 'daily_oil_prices'}, inplace=True)"
      ]
    },
    {
      "cell_type": "code",
      "execution_count": null,
      "metadata": {
        "colab": {
          "base_uri": "https://localhost:8080/",
          "height": 206
        },
        "id": "cVM1lpGkvYOW",
        "outputId": "6d344a7c-96b6-4d9c-ace2-4278af41c545"
      },
      "outputs": [
        {
          "ename": "",
          "evalue": "",
          "output_type": "error",
          "traceback": [
            "\u001b[1;31mFailed to start the Kernel. \n",
            "\u001b[1;31mUnable to start Kernel 'Python 3.12.3' due to a timeout waiting for the ports to get used. \n",
            "\u001b[1;31mView Jupyter <a href='command:jupyter.viewOutput'>log</a> for further details."
          ]
        }
      ],
      "source": [
        "oil.head()"
      ]
    },
    {
      "cell_type": "markdown",
      "metadata": {
        "id": "AC9TYlU9RaRn"
      },
      "source": [
        "Handling missing values\n",
        "\n"
      ]
    },
    {
      "cell_type": "code",
      "execution_count": null,
      "metadata": {
        "id": "hRwdYNWqvd2W"
      },
      "outputs": [
        {
          "ename": "",
          "evalue": "",
          "output_type": "error",
          "traceback": [
            "\u001b[1;31mFailed to start the Kernel. \n",
            "\u001b[1;31mUnable to start Kernel 'Python 3.12.3' due to a timeout waiting for the ports to get used. \n",
            "\u001b[1;31mView Jupyter <a href='command:jupyter.viewOutput'>log</a> for further details."
          ]
        }
      ],
      "source": [
        "# Filling missing values in daily oil prices using backfill method\n",
        "\n",
        "oil['daily_oil_prices'].fillna(method='bfill', inplace=True)"
      ]
    },
    {
      "cell_type": "code",
      "execution_count": null,
      "metadata": {
        "colab": {
          "base_uri": "https://localhost:8080/",
          "height": 206
        },
        "id": "q7RNamdZvgZp",
        "outputId": "5911d2a9-91b4-486a-f978-0a2484df8b3e"
      },
      "outputs": [
        {
          "ename": "",
          "evalue": "",
          "output_type": "error",
          "traceback": [
            "\u001b[1;31mFailed to start the Kernel. \n",
            "\u001b[1;31mUnable to start Kernel 'Python 3.12.3' due to a timeout waiting for the ports to get used. \n",
            "\u001b[1;31mView Jupyter <a href='command:jupyter.viewOutput'>log</a> for further details."
          ]
        }
      ],
      "source": [
        "oil.head()"
      ]
    },
    {
      "cell_type": "markdown",
      "metadata": {
        "id": "P3uBBpDvw2LF"
      },
      "source": [
        "# <span style='color:dodgerblue; font-weight:bold;'><a name=\"3\">3 - Data Visualization</a></span>"
      ]
    },
    {
      "cell_type": "markdown",
      "metadata": {
        "id": "4f1e85a1",
        "papermill": {
          "duration": 0.034664,
          "end_time": "2024-10-10T21:34:17.909821",
          "exception": false,
          "start_time": "2024-10-10T21:34:17.875157",
          "status": "completed"
        },
        "tags": []
      },
      "source": [
        "# <span style='color:dodgerblue; font-weight:bold;'><a name=\"3\">3 - Data Visualization</a></span>"
      ]
    },
    {
      "cell_type": "markdown",
      "metadata": {
        "id": "283cefa5",
        "papermill": {
          "duration": 0.034399,
          "end_time": "2024-10-10T21:34:17.980364",
          "exception": false,
          "start_time": "2024-10-10T21:34:17.945965",
          "status": "completed"
        },
        "tags": []
      },
      "source": [
        "###Correlation Heatmap"
      ]
    },
    {
      "cell_type": "code",
      "execution_count": null,
      "metadata": {
        "colab": {
          "base_uri": "https://localhost:8080/",
          "height": 361
        },
        "execution": {
          "iopub.execute_input": "2024-10-15T10:53:59.751225Z",
          "iopub.status.busy": "2024-10-15T10:53:59.750808Z",
          "iopub.status.idle": "2024-10-15T10:54:00.971338Z",
          "shell.execute_reply": "2024-10-15T10:54:00.970396Z",
          "shell.execute_reply.started": "2024-10-15T10:53:59.751174Z"
        },
        "id": "2a07c781",
        "outputId": "8a30647a-91ee-4ec2-d193-e33dd1463624",
        "papermill": {
          "duration": 0.050404,
          "end_time": "2024-10-10T21:34:18.069253",
          "exception": false,
          "start_time": "2024-10-10T21:34:18.018849",
          "status": "completed"
        },
        "tags": [],
        "trusted": true
      },
      "outputs": [
        {
          "ename": "",
          "evalue": "",
          "output_type": "error",
          "traceback": [
            "\u001b[1;31mFailed to start the Kernel. \n",
            "\u001b[1;31mUnable to start Kernel 'Python 3.12.3' due to a timeout waiting for the ports to get used. \n",
            "\u001b[1;31mView Jupyter <a href='command:jupyter.viewOutput'>log</a> for further details."
          ]
        }
      ],
      "source": [
        "datasets = [train, store, test]\n",
        "\n",
        "dataset_names = ['train', 'stores', 'test']\n",
        "\n",
        "\n",
        "fig, axes = plt.subplots(1, 3, figsize=(18, 5))\n",
        "\n",
        "\n",
        "\n",
        "for i, dataset in enumerate(datasets):\n",
        "\n",
        "    # Select only the non-numeric columns in the dataset\n",
        "\n",
        "    non_numeric_columns = dataset.select_dtypes(exclude=[np.number]).columns\n",
        "\n",
        "\n",
        "    numeric_data = dataset.drop(columns=non_numeric_columns)\n",
        "\n",
        "\n",
        "    if numeric_data.empty:\n",
        "\n",
        "        print(f\"{dataset_names[i]} has no numeric columns.\")\n",
        "\n",
        "        axes[i].set_title(f\"{dataset_names[i]}: No Numeric Data\")\n",
        "\n",
        "        continue\n",
        "\n",
        "\n",
        "\n",
        "    corr = numeric_data.corr()\n",
        "\n",
        "    if corr.empty:\n",
        "\n",
        "        print(f\"No correlation matrix for {dataset_names[i]}\")\n",
        "\n",
        "        axes[i].set_title(f\"{dataset_names[i]}: No Correlation\")\n",
        "\n",
        "        continue\n",
        "\n",
        "    sns.heatmap(corr, cmap=\"coolwarm\", ax=axes[i])\n",
        "\n",
        "    axes[i].set_title(dataset_names[i])\n",
        "\n",
        "\n",
        "\n",
        "plt.tight_layout()\n",
        "\n",
        "\n",
        "plt.show()"
      ]
    },
    {
      "cell_type": "markdown",
      "metadata": {
        "id": "qwUVz9daGaVZ"
      },
      "source": [
        "### Top 10 Product Families by Sales\n",
        "\n"
      ]
    },
    {
      "cell_type": "code",
      "execution_count": null,
      "metadata": {
        "colab": {
          "base_uri": "https://localhost:8080/",
          "height": 642
        },
        "execution": {
          "iopub.execute_input": "2024-10-15T10:54:00.972845Z",
          "iopub.status.busy": "2024-10-15T10:54:00.972536Z",
          "iopub.status.idle": "2024-10-15T10:54:01.561522Z",
          "shell.execute_reply": "2024-10-15T10:54:01.560585Z",
          "shell.execute_reply.started": "2024-10-15T10:54:00.972810Z"
        },
        "id": "5c685a6c",
        "outputId": "d58aa0d4-6993-4476-a59c-8326b41669be",
        "papermill": {
          "duration": 0.047292,
          "end_time": "2024-10-10T21:34:18.222297",
          "exception": false,
          "start_time": "2024-10-10T21:34:18.175005",
          "status": "completed"
        },
        "tags": [],
        "trusted": true
      },
      "outputs": [
        {
          "ename": "",
          "evalue": "",
          "output_type": "error",
          "traceback": [
            "\u001b[1;31mFailed to start the Kernel. \n",
            "\u001b[1;31mUnable to start Kernel 'Python 3.12.3' due to a timeout waiting for the ports to get used. \n",
            "\u001b[1;31mView Jupyter <a href='command:jupyter.viewOutput'>log</a> for further details."
          ]
        }
      ],
      "source": [
        "\n",
        "\n",
        "sales_by_family = train.groupby('family')['sales'].sum().reset_index()\n",
        "\n",
        "\n",
        "\n",
        "sales_by_family = sales_by_family.sort_values(by='sales', ascending=False)\n",
        "\n",
        "\n",
        "\n",
        "plt.figure(figsize=(10, 6))\n",
        "\n",
        "plt.bar(sales_by_family['family'][:10], sales_by_family['sales'][:10], color='blue')\n",
        "\n",
        "\n",
        "\n",
        "plt.xticks(rotation=45, ha='right')\n",
        "\n",
        "\n",
        "\n",
        "plt.title('Top 10 Product Families by Sales')\n",
        "\n",
        "plt.xlabel('Product Family')\n",
        "\n",
        "plt.ylabel('Total Sales')\n",
        "\n",
        "\n",
        "plt.show()"
      ]
    },
    {
      "cell_type": "markdown",
      "metadata": {
        "id": "f4ef2916",
        "papermill": {
          "duration": 0.036293,
          "end_time": "2024-10-10T21:34:18.294648",
          "exception": false,
          "start_time": "2024-10-10T21:34:18.258355",
          "status": "completed"
        },
        "tags": []
      },
      "source": [
        "### Top 10 Stores by Sales"
      ]
    },
    {
      "cell_type": "code",
      "execution_count": null,
      "metadata": {
        "colab": {
          "base_uri": "https://localhost:8080/",
          "height": 572
        },
        "execution": {
          "iopub.execute_input": "2024-10-15T10:54:01.562995Z",
          "iopub.status.busy": "2024-10-15T10:54:01.562690Z",
          "iopub.status.idle": "2024-10-15T10:54:01.914323Z",
          "shell.execute_reply": "2024-10-15T10:54:01.913467Z",
          "shell.execute_reply.started": "2024-10-15T10:54:01.562961Z"
        },
        "id": "087a91af",
        "outputId": "e8b66fcf-10f6-4b32-8403-9611b2a6ff6d",
        "papermill": {
          "duration": 0.047525,
          "end_time": "2024-10-10T21:34:18.377089",
          "exception": false,
          "start_time": "2024-10-10T21:34:18.329564",
          "status": "completed"
        },
        "tags": [],
        "trusted": true
      },
      "outputs": [
        {
          "ename": "",
          "evalue": "",
          "output_type": "error",
          "traceback": [
            "\u001b[1;31mFailed to start the Kernel. \n",
            "\u001b[1;31mUnable to start Kernel 'Python 3.12.3' due to a timeout waiting for the ports to get used. \n",
            "\u001b[1;31mView Jupyter <a href='command:jupyter.viewOutput'>log</a> for further details."
          ]
        }
      ],
      "source": [
        "sales_by_store = train.groupby('store_nbr')['sales'].sum().reset_index()\n",
        "\n",
        "sales_by_store = sales_by_store.sort_values(by='sales', ascending=False)\n",
        "\n",
        "\n",
        "plt.figure(figsize=(10, 6))\n",
        "\n",
        "plt.bar(sales_by_store['store_nbr'][:10].astype(str), sales_by_store['sales'][:10], color='blue')\n",
        "\n",
        "plt.xticks(rotation=45, ha='right')\n",
        "\n",
        "plt.title('Top 10 Stores by Sales')\n",
        "\n",
        "plt.xlabel('Store Number')\n",
        "\n",
        "plt.ylabel('Total Sales')\n",
        "\n",
        "\n",
        "plt.show()"
      ]
    },
    {
      "cell_type": "markdown",
      "metadata": {
        "id": "20bbd078",
        "papermill": {
          "duration": 0.035975,
          "end_time": "2024-10-10T21:34:18.448312",
          "exception": false,
          "start_time": "2024-10-10T21:34:18.412337",
          "status": "completed"
        },
        "tags": []
      },
      "source": [
        "Top 10 Stores by Number of Items on Promotion"
      ]
    },
    {
      "cell_type": "code",
      "execution_count": null,
      "metadata": {
        "colab": {
          "base_uri": "https://localhost:8080/",
          "height": 572
        },
        "execution": {
          "iopub.execute_input": "2024-10-15T10:54:01.915987Z",
          "iopub.status.busy": "2024-10-15T10:54:01.915612Z",
          "iopub.status.idle": "2024-10-15T10:54:02.263089Z",
          "shell.execute_reply": "2024-10-15T10:54:02.262240Z",
          "shell.execute_reply.started": "2024-10-15T10:54:01.915944Z"
        },
        "id": "ddfede1d",
        "outputId": "4975c3b5-3cdf-45ae-b8b4-e9dc439eaaec",
        "papermill": {
          "duration": 0.04788,
          "end_time": "2024-10-10T21:34:18.531938",
          "exception": false,
          "start_time": "2024-10-10T21:34:18.484058",
          "status": "completed"
        },
        "tags": [],
        "trusted": true
      },
      "outputs": [
        {
          "ename": "",
          "evalue": "",
          "output_type": "error",
          "traceback": [
            "\u001b[1;31mFailed to start the Kernel. \n",
            "\u001b[1;31mUnable to start Kernel 'Python 3.12.3' due to a timeout waiting for the ports to get used. \n",
            "\u001b[1;31mView Jupyter <a href='command:jupyter.viewOutput'>log</a> for further details."
          ]
        }
      ],
      "source": [
        "\n",
        "\n",
        "promotion_by_store = train.groupby('store_nbr')['onpromotion'].sum().reset_index()\n",
        "\n",
        "\n",
        "promotion_by_store = promotion_by_store.sort_values(by='onpromotion', ascending=False)\n",
        "\n",
        "\n",
        "plt.figure(figsize=(10, 6))\n",
        "\n",
        "plt.bar(promotion_by_store['store_nbr'][:10].astype(str), promotion_by_store['onpromotion'][:10], color='orange')\n",
        "\n",
        "\n",
        "\n",
        "plt.xticks(rotation=45, ha='right')\n",
        "\n",
        "\n",
        "plt.title('Top 10 Stores by Number of Items on Promotion')\n",
        "\n",
        "plt.xlabel('Store Number')\n",
        "\n",
        "plt.ylabel('Total Items on Promotion')\n",
        "\n",
        "\n",
        "plt.show()"
      ]
    },
    {
      "cell_type": "markdown",
      "metadata": {
        "id": "9b3bfe51",
        "papermill": {
          "duration": 0.03473,
          "end_time": "2024-10-10T21:34:18.602290",
          "exception": false,
          "start_time": "2024-10-10T21:34:18.567560",
          "status": "completed"
        },
        "tags": []
      },
      "source": [
        "### Oil Prices Over Time"
      ]
    },
    {
      "cell_type": "code",
      "execution_count": null,
      "metadata": {
        "colab": {
          "base_uri": "https://localhost:8080/",
          "height": 487
        },
        "execution": {
          "iopub.execute_input": "2024-10-15T10:54:02.264466Z",
          "iopub.status.busy": "2024-10-15T10:54:02.264175Z",
          "iopub.status.idle": "2024-10-15T10:54:02.764866Z",
          "shell.execute_reply": "2024-10-15T10:54:02.763863Z",
          "shell.execute_reply.started": "2024-10-15T10:54:02.264434Z"
        },
        "id": "cc7e83fe",
        "outputId": "ef25b3e4-1667-4054-d79f-a0ac7e347e25",
        "papermill": {
          "duration": 0.047722,
          "end_time": "2024-10-10T21:34:18.685115",
          "exception": false,
          "start_time": "2024-10-10T21:34:18.637393",
          "status": "completed"
        },
        "tags": [],
        "trusted": true
      },
      "outputs": [
        {
          "ename": "",
          "evalue": "",
          "output_type": "error",
          "traceback": [
            "\u001b[1;31mFailed to start the Kernel. \n",
            "\u001b[1;31mUnable to start Kernel 'Python 3.12.3' due to a timeout waiting for the ports to get used. \n",
            "\u001b[1;31mView Jupyter <a href='command:jupyter.viewOutput'>log</a> for further details."
          ]
        }
      ],
      "source": [
        "# Setting the 'date' column as the index and plotting the oil prices with light green color\n",
        "oil.set_index('date').plot(color='lightgreen', figsize=(10, 5))\n",
        "\n",
        "# Setting the title and labels for the plot\n",
        "plt.title('Oil Prices Over Time')\n",
        "plt.xlabel('Date')\n",
        "plt.ylabel('Price')\n",
        "\n",
        "# Display the plot\n",
        "plt.show()"
      ]
    },
    {
      "cell_type": "markdown",
      "metadata": {
        "id": "7e4b747f",
        "papermill": {
          "duration": 0.034665,
          "end_time": "2024-10-10T21:34:18.755134",
          "exception": false,
          "start_time": "2024-10-10T21:34:18.720469",
          "status": "completed"
        },
        "tags": []
      },
      "source": [
        "### Daily Total Sales of Stores"
      ]
    },
    {
      "cell_type": "code",
      "execution_count": null,
      "metadata": {
        "colab": {
          "base_uri": "https://localhost:8080/",
          "height": 542
        },
        "execution": {
          "iopub.execute_input": "2024-10-15T10:54:02.766467Z",
          "iopub.status.busy": "2024-10-15T10:54:02.766125Z",
          "iopub.status.idle": "2024-10-15T10:54:06.105576Z",
          "shell.execute_reply": "2024-10-15T10:54:06.104184Z",
          "shell.execute_reply.started": "2024-10-15T10:54:02.766426Z"
        },
        "id": "e1780040",
        "outputId": "fd8453c4-e7fa-4cf0-d7c6-5f6d1ea3fe6f",
        "papermill": {
          "duration": 0.046336,
          "end_time": "2024-10-10T21:34:18.836439",
          "exception": false,
          "start_time": "2024-10-10T21:34:18.790103",
          "status": "completed"
        },
        "tags": [],
        "trusted": true
      },
      "outputs": [
        {
          "ename": "",
          "evalue": "",
          "output_type": "error",
          "traceback": [
            "\u001b[1;31mFailed to start the Kernel. \n",
            "\u001b[1;31mUnable to start Kernel 'Python 3.12.3' due to a timeout waiting for the ports to get used. \n",
            "\u001b[1;31mView Jupyter <a href='command:jupyter.viewOutput'>log</a> for further details."
          ]
        }
      ],
      "source": [
        "daily_stores_sales = train.groupby(['date', 'store_nbr'], as_index=False)['sales'].sum()\n",
        "\n",
        "\n",
        "px.line(daily_stores_sales, x=\"date\", y=\"sales\", color=\"store_nbr\", title=\"Daily Total Sales of the Stores\")"
      ]
    },
    {
      "cell_type": "markdown",
      "metadata": {
        "id": "3140e0f0",
        "papermill": {
          "duration": 0.034741,
          "end_time": "2024-10-10T21:34:18.906514",
          "exception": false,
          "start_time": "2024-10-10T21:34:18.871773",
          "status": "completed"
        },
        "tags": []
      },
      "source": [
        "### Daily Total Sales of Product Families"
      ]
    },
    {
      "cell_type": "code",
      "execution_count": null,
      "metadata": {
        "colab": {
          "base_uri": "https://localhost:8080/",
          "height": 542
        },
        "execution": {
          "iopub.execute_input": "2024-10-15T10:54:06.107613Z",
          "iopub.status.busy": "2024-10-15T10:54:06.107241Z",
          "iopub.status.idle": "2024-10-15T10:54:07.645942Z",
          "shell.execute_reply": "2024-10-15T10:54:07.645009Z",
          "shell.execute_reply.started": "2024-10-15T10:54:06.107573Z"
        },
        "id": "d598311b",
        "outputId": "adcc643d-ee9b-4566-a834-657d3ff84270",
        "papermill": {
          "duration": 0.047556,
          "end_time": "2024-10-10T21:34:18.991025",
          "exception": false,
          "start_time": "2024-10-10T21:34:18.943469",
          "status": "completed"
        },
        "tags": [],
        "trusted": true
      },
      "outputs": [
        {
          "ename": "",
          "evalue": "",
          "output_type": "error",
          "traceback": [
            "\u001b[1;31mFailed to start the Kernel. \n",
            "\u001b[1;31mUnable to start Kernel 'Python 3.12.3' due to a timeout waiting for the ports to get used. \n",
            "\u001b[1;31mView Jupyter <a href='command:jupyter.viewOutput'>log</a> for further details."
          ]
        }
      ],
      "source": [
        "\n",
        "\n",
        "families = train.groupby(['family', 'date'], as_index=False).agg({'sales': 'sum'})\n",
        "\n",
        "\n",
        "\n",
        "px.line(families, x=\"date\", y=\"sales\", color=\"family\", title=\"Daily Total Sales of the Family\")"
      ]
    },
    {
      "cell_type": "markdown",
      "metadata": {
        "id": "0G0R4YIYxDoJ"
      },
      "source": [
        "# <span style='color:dodgerblue; font-weight:bold;'><a name=\"4\">4 - Data Preprocessing</a></span>"
      ]
    },
    {
      "cell_type": "markdown",
      "metadata": {
        "id": "F-rj2tQ2-5pf"
      },
      "source": [
        "Merging Train and Test Datasets with Additional Data"
      ]
    },
    {
      "cell_type": "code",
      "execution_count": null,
      "metadata": {
        "id": "djc-gz7x-5pf"
      },
      "outputs": [
        {
          "ename": "",
          "evalue": "",
          "output_type": "error",
          "traceback": [
            "\u001b[1;31mFailed to start the Kernel. \n",
            "\u001b[1;31mUnable to start Kernel 'Python 3.12.3' due to a timeout waiting for the ports to get used. \n",
            "\u001b[1;31mView Jupyter <a href='command:jupyter.viewOutput'>log</a> for further details."
          ]
        }
      ],
      "source": [
        "# Merge train and test datasets on appropriate columns\n",
        "\n",
        "train = train.merge(store, on='store_nbr', how='left')\n",
        "\n",
        "test = test.merge(store, on='store_nbr', how='left')\n",
        "\n",
        "\n",
        "train = train.merge(oil, on='date', how='left')\n",
        "\n",
        "test = test.merge(oil, on='date', how='left')\n",
        "\n",
        "\n",
        "train = train.merge(holidays, on='date', how='left')\n",
        "\n",
        "test = test.merge(holidays, on='date', how='left')\n",
        "\n",
        "\n",
        "train = train.merge(transactions, on=['date', 'store_nbr'], how='left')\n",
        "\n",
        "test = test.merge(transactions, on=['date', 'store_nbr'], how='left')"
      ]
    },
    {
      "cell_type": "code",
      "execution_count": null,
      "metadata": {
        "colab": {
          "base_uri": "https://localhost:8080/",
          "height": 313
        },
        "id": "EVVcSRs8-5pf",
        "outputId": "c6308d01-178d-44a3-ff76-c3ef519304cc"
      },
      "outputs": [
        {
          "ename": "",
          "evalue": "",
          "output_type": "error",
          "traceback": [
            "\u001b[1;31mFailed to start the Kernel. \n",
            "\u001b[1;31mUnable to start Kernel 'Python 3.12.3' due to a timeout waiting for the ports to get used. \n",
            "\u001b[1;31mView Jupyter <a href='command:jupyter.viewOutput'>log</a> for further details."
          ]
        }
      ],
      "source": [
        "train.head()"
      ]
    },
    {
      "cell_type": "code",
      "execution_count": null,
      "metadata": {
        "id": "QF7k2nvvE0Sl"
      },
      "outputs": [
        {
          "ename": "",
          "evalue": "",
          "output_type": "error",
          "traceback": [
            "\u001b[1;31mFailed to start the Kernel. \n",
            "\u001b[1;31mUnable to start Kernel 'Python 3.12.3' due to a timeout waiting for the ports to get used. \n",
            "\u001b[1;31mView Jupyter <a href='command:jupyter.viewOutput'>log</a> for further details."
          ]
        }
      ],
      "source": [
        "train = train.rename(columns = {'type_x' : \"holiday_type\", \"type_y\" : \"store_type\"})\n",
        "\n",
        "test = test.rename(columns = {'type_x' : \"holiday_type\", \"type_y\" : \"store_type\"})"
      ]
    },
    {
      "cell_type": "markdown",
      "metadata": {
        "id": "4b64e5e4",
        "papermill": {
          "duration": 0.037867,
          "end_time": "2024-10-10T21:34:25.968950",
          "exception": false,
          "start_time": "2024-10-10T21:34:25.931083",
          "status": "completed"
        },
        "tags": []
      },
      "source": [
        "Handling missing values"
      ]
    },
    {
      "cell_type": "code",
      "execution_count": null,
      "metadata": {
        "id": "9p0hZy-g_bUk"
      },
      "outputs": [
        {
          "ename": "",
          "evalue": "",
          "output_type": "error",
          "traceback": [
            "\u001b[1;31mFailed to start the Kernel. \n",
            "\u001b[1;31mUnable to start Kernel 'Python 3.12.3' due to a timeout waiting for the ports to get used. \n",
            "\u001b[1;31mView Jupyter <a href='command:jupyter.viewOutput'>log</a> for further details."
          ]
        }
      ],
      "source": [
        "train[\"daily_oil_prices\"] = train[\"daily_oil_prices\"].fillna(method = 'bfill')\n",
        "\n",
        "test[\"daily_oil_prices\"] = test[\"daily_oil_prices\"].fillna(method = 'bfill')\n",
        "\n",
        "\n",
        "\n",
        "train[\"transactions\"].fillna(0, inplace=True)\n",
        "\n",
        "test[\"transactions\"].fillna(0, inplace=True)\n"
      ]
    },
    {
      "cell_type": "code",
      "execution_count": null,
      "metadata": {
        "colab": {
          "base_uri": "https://localhost:8080/",
          "height": 313
        },
        "id": "ihz5IfK4_dUL",
        "outputId": "bf0aa277-fa7e-4c78-aa62-9a7a71857f3e"
      },
      "outputs": [
        {
          "ename": "",
          "evalue": "",
          "output_type": "error",
          "traceback": [
            "\u001b[1;31mFailed to start the Kernel. \n",
            "\u001b[1;31mUnable to start Kernel 'Python 3.12.3' due to a timeout waiting for the ports to get used. \n",
            "\u001b[1;31mView Jupyter <a href='command:jupyter.viewOutput'>log</a> for further details."
          ]
        }
      ],
      "source": [
        "train.head()"
      ]
    },
    {
      "cell_type": "markdown",
      "metadata": {
        "id": "wc89-H96vrbE"
      },
      "source": [
        "\n",
        "# <span style='color:dodgerblue; font-weight:bold;'><a name=\"4.1\">4.1 - Outlier Function with (I Q R _ stander deviation)</a></span>"
      ]
    },
    {
      "cell_type": "code",
      "execution_count": null,
      "metadata": {
        "id": "HJ_1UtWjvuUb"
      },
      "outputs": [
        {
          "ename": "",
          "evalue": "",
          "output_type": "error",
          "traceback": [
            "\u001b[1;31mFailed to start the Kernel. \n",
            "\u001b[1;31mUnable to start Kernel 'Python 3.12.3' due to a timeout waiting for the ports to get used. \n",
            "\u001b[1;31mView Jupyter <a href='command:jupyter.viewOutput'>log</a> for further details."
          ]
        }
      ],
      "source": [
        "def check_outliers(colm,df):\n",
        "\n",
        "    q1=df[colm].quantile(0.25)\n",
        "\n",
        "    q3=df[colm].quantile(0.75)\n",
        "\n",
        "    iqr=q3-q1\n",
        "\n",
        "    lower_bound=q1-1.5*iqr\n",
        "\n",
        "    upper_bound=q3+1.5*iqr\n",
        "\n",
        "    outliers = []\n",
        "\n",
        "\n",
        "\n",
        "    for i in range(len(df)):\n",
        "\n",
        "        value = df.loc[i,colm]\n",
        "\n",
        "        if value > upper_bound or value < lower_bound :\n",
        "\n",
        "            outliers.append(value)\n",
        "\n",
        "    return outliers"
      ]
    },
    {
      "cell_type": "code",
      "execution_count": null,
      "metadata": {
        "id": "3_KUX9M-v1Aj"
      },
      "outputs": [
        {
          "ename": "",
          "evalue": "",
          "output_type": "error",
          "traceback": [
            "\u001b[1;31mFailed to start the Kernel. \n",
            "\u001b[1;31mUnable to start Kernel 'Python 3.12.3' due to a timeout waiting for the ports to get used. \n",
            "\u001b[1;31mView Jupyter <a href='command:jupyter.viewOutput'>log</a> for further details."
          ]
        }
      ],
      "source": [
        "def handle_outliers(colm,df):\n",
        "\n",
        "    q1=df[colm].quantile(0.25)\n",
        "\n",
        "    q3=df[colm].quantile(0.75)\n",
        "\n",
        "    iqr=q3-q1\n",
        "\n",
        "    lower_bound= q1-1.5*iqr\n",
        "\n",
        "    upper_bound= q3+1.5*iqr\n",
        "\n",
        "\n",
        "\n",
        "    for i in range (len(df)):\n",
        "\n",
        "        if df.loc[i,colm] < lower_bound :\n",
        "\n",
        "            df.loc[i,colm] = lower_bound\n",
        "\n",
        "        elif  df.loc[i,colm] > upper_bound:\n",
        "\n",
        "             df.loc[i,colm] = upper_bound"
      ]
    },
    {
      "cell_type": "code",
      "execution_count": null,
      "metadata": {
        "colab": {
          "base_uri": "https://localhost:8080/",
          "height": 313
        },
        "id": "-fwcmHwT99FC",
        "outputId": "98d889af-badb-40b7-f7e5-8fdd5bb039e2"
      },
      "outputs": [
        {
          "ename": "",
          "evalue": "",
          "output_type": "error",
          "traceback": [
            "\u001b[1;31mFailed to start the Kernel. \n",
            "\u001b[1;31mUnable to start Kernel 'Python 3.12.3' due to a timeout waiting for the ports to get used. \n",
            "\u001b[1;31mView Jupyter <a href='command:jupyter.viewOutput'>log</a> for further details."
          ]
        }
      ],
      "source": [
        "train.head()"
      ]
    },
    {
      "cell_type": "code",
      "execution_count": null,
      "metadata": {
        "colab": {
          "base_uri": "https://localhost:8080/"
        },
        "id": "ecpL_GrEwc5h",
        "outputId": "18638071-73db-4c9d-dae2-b0708250b7f5"
      },
      "outputs": [
        {
          "ename": "",
          "evalue": "",
          "output_type": "error",
          "traceback": [
            "\u001b[1;31mFailed to start the Kernel. \n",
            "\u001b[1;31mUnable to start Kernel 'Python 3.12.3' due to a timeout waiting for the ports to get used. \n",
            "\u001b[1;31mView Jupyter <a href='command:jupyter.viewOutput'>log</a> for further details."
          ]
        }
      ],
      "source": [
        "check_outliers('sales',train)"
      ]
    },
    {
      "cell_type": "code",
      "execution_count": null,
      "metadata": {
        "id": "x1MQnJuowhwH"
      },
      "outputs": [
        {
          "ename": "",
          "evalue": "",
          "output_type": "error",
          "traceback": [
            "\u001b[1;31mFailed to start the Kernel. \n",
            "\u001b[1;31mUnable to start Kernel 'Python 3.12.3' due to a timeout waiting for the ports to get used. \n",
            "\u001b[1;31mView Jupyter <a href='command:jupyter.viewOutput'>log</a> for further details."
          ]
        }
      ],
      "source": [
        "handle_outliers('sales',train)"
      ]
    },
    {
      "cell_type": "code",
      "execution_count": null,
      "metadata": {
        "colab": {
          "base_uri": "https://localhost:8080/"
        },
        "id": "BWH8uN-5BShZ",
        "outputId": "949498d0-5938-41fc-cb87-b4589d9eef5f"
      },
      "outputs": [
        {
          "ename": "",
          "evalue": "",
          "output_type": "error",
          "traceback": [
            "\u001b[1;31mFailed to start the Kernel. \n",
            "\u001b[1;31mUnable to start Kernel 'Python 3.12.3' due to a timeout waiting for the ports to get used. \n",
            "\u001b[1;31mView Jupyter <a href='command:jupyter.viewOutput'>log</a> for further details."
          ]
        }
      ],
      "source": [
        "check_outliers('sales',train)"
      ]
    },
    {
      "cell_type": "code",
      "execution_count": null,
      "metadata": {
        "colab": {
          "base_uri": "https://localhost:8080/"
        },
        "id": "aVLEW65AwZhx",
        "outputId": "10c3790d-9646-4259-f2e8-369516eb9960"
      },
      "outputs": [
        {
          "ename": "",
          "evalue": "",
          "output_type": "error",
          "traceback": [
            "\u001b[1;31mFailed to start the Kernel. \n",
            "\u001b[1;31mUnable to start Kernel 'Python 3.12.3' due to a timeout waiting for the ports to get used. \n",
            "\u001b[1;31mView Jupyter <a href='command:jupyter.viewOutput'>log</a> for further details."
          ]
        }
      ],
      "source": [
        "check_outliers('daily_oil_prices',oil)"
      ]
    },
    {
      "cell_type": "code",
      "execution_count": null,
      "metadata": {
        "colab": {
          "base_uri": "https://localhost:8080/"
        },
        "id": "2mEL4eSnwnIG",
        "outputId": "196b3591-be98-41df-aaeb-e5eda61779d7"
      },
      "outputs": [
        {
          "ename": "",
          "evalue": "",
          "output_type": "error",
          "traceback": [
            "\u001b[1;31mFailed to start the Kernel. \n",
            "\u001b[1;31mUnable to start Kernel 'Python 3.12.3' due to a timeout waiting for the ports to get used. \n",
            "\u001b[1;31mView Jupyter <a href='command:jupyter.viewOutput'>log</a> for further details."
          ]
        }
      ],
      "source": [
        "check_outliers('transactions',transactions)"
      ]
    },
    {
      "cell_type": "code",
      "execution_count": null,
      "metadata": {
        "id": "G9Qo_GVkwutn"
      },
      "outputs": [
        {
          "ename": "",
          "evalue": "",
          "output_type": "error",
          "traceback": [
            "\u001b[1;31mFailed to start the Kernel. \n",
            "\u001b[1;31mUnable to start Kernel 'Python 3.12.3' due to a timeout waiting for the ports to get used. \n",
            "\u001b[1;31mView Jupyter <a href='command:jupyter.viewOutput'>log</a> for further details."
          ]
        }
      ],
      "source": [
        "handle_outliers('transactions',transactions)"
      ]
    },
    {
      "cell_type": "code",
      "execution_count": null,
      "metadata": {
        "colab": {
          "base_uri": "https://localhost:8080/"
        },
        "id": "Eo7mG5rYwxTd",
        "outputId": "75658eca-2a5f-49e7-d03c-5bbbd1dc3098"
      },
      "outputs": [
        {
          "ename": "",
          "evalue": "",
          "output_type": "error",
          "traceback": [
            "\u001b[1;31mFailed to start the Kernel. \n",
            "\u001b[1;31mUnable to start Kernel 'Python 3.12.3' due to a timeout waiting for the ports to get used. \n",
            "\u001b[1;31mView Jupyter <a href='command:jupyter.viewOutput'>log</a> for further details."
          ]
        }
      ],
      "source": [
        "check_outliers('transactions',transactions)"
      ]
    },
    {
      "cell_type": "markdown",
      "metadata": {
        "id": "UZ-0P4QnCRj2"
      },
      "source": [
        "# <span style='color:dodgerblue; font-weight:bold;'><a name=\"4.2\">4.2 - create_calendar_features</a></span>"
      ]
    },
    {
      "cell_type": "code",
      "execution_count": null,
      "metadata": {
        "id": "TIjRXHSDBjrs"
      },
      "outputs": [
        {
          "ename": "",
          "evalue": "",
          "output_type": "error",
          "traceback": [
            "\u001b[1;31mFailed to start the Kernel. \n",
            "\u001b[1;31mUnable to start Kernel 'Python 3.12.3' due to a timeout waiting for the ports to get used. \n",
            "\u001b[1;31mView Jupyter <a href='command:jupyter.viewOutput'>log</a> for further details."
          ]
        }
      ],
      "source": [
        "def create_calendar_features(df):\n",
        "\n",
        "    df['day_of_week'] = df['date'].dt.dayofweek\n",
        "\n",
        "    df['week_of_year'] = df['date'].dt.isocalendar().week\n",
        "\n",
        "    df['month'] = df['date'].dt.month\n",
        "\n",
        "    df['year'] = df['date'].dt.year\n",
        "\n",
        "    df['is_weekend'] = df['day_of_week'].isin([5, 6]).astype(int)  # 1 if weekend, 0 if not\n",
        "\n",
        "    return df"
      ]
    },
    {
      "cell_type": "code",
      "execution_count": null,
      "metadata": {
        "id": "u86du34fCkUZ"
      },
      "outputs": [
        {
          "ename": "",
          "evalue": "",
          "output_type": "error",
          "traceback": [
            "\u001b[1;31mFailed to start the Kernel. \n",
            "\u001b[1;31mUnable to start Kernel 'Python 3.12.3' due to a timeout waiting for the ports to get used. \n",
            "\u001b[1;31mView Jupyter <a href='command:jupyter.viewOutput'>log</a> for further details."
          ]
        }
      ],
      "source": [
        "\n",
        "train = create_calendar_features(train)\n",
        "\n",
        "test = create_calendar_features(test)"
      ]
    },
    {
      "cell_type": "code",
      "execution_count": null,
      "metadata": {
        "colab": {
          "base_uri": "https://localhost:8080/",
          "height": 342
        },
        "id": "IfsCp7IXCnIR",
        "outputId": "4714c716-80fb-41a0-e91e-2e91491b169e"
      },
      "outputs": [
        {
          "ename": "",
          "evalue": "",
          "output_type": "error",
          "traceback": [
            "\u001b[1;31mFailed to start the Kernel. \n",
            "\u001b[1;31mUnable to start Kernel 'Python 3.12.3' due to a timeout waiting for the ports to get used. \n",
            "\u001b[1;31mView Jupyter <a href='command:jupyter.viewOutput'>log</a> for further details."
          ]
        }
      ],
      "source": [
        "train.head()"
      ]
    },
    {
      "cell_type": "code",
      "execution_count": null,
      "metadata": {},
      "outputs": [
        {
          "ename": "",
          "evalue": "",
          "output_type": "error",
          "traceback": [
            "\u001b[1;31mFailed to start the Kernel. \n",
            "\u001b[1;31mUnable to start Kernel 'Python 3.12.3' due to a timeout waiting for the ports to get used. \n",
            "\u001b[1;31mView Jupyter <a href='command:jupyter.viewOutput'>log</a> for further details."
          ]
        }
      ],
      "source": [
        "train.to_csv('Cleaned_Store_data2.csv',index = False)"
      ]
    },
    {
      "cell_type": "code",
      "execution_count": 48,
      "metadata": {
        "colab": {
          "base_uri": "https://localhost:8080/",
          "height": 342
        },
        "id": "YAtQomaVCrJX",
        "outputId": "23a4212a-de25-4498-dc6f-03c1cfb6fc5a"
      },
      "outputs": [
        {
          "data": {
            "application/vnd.google.colaboratory.intrinsic+json": {
              "type": "dataframe",
              "variable_name": "test"
            },
            "text/html": [
              "\n",
              "  <div id=\"df-fa746125-a836-47b2-b159-d732355b003b\" class=\"colab-df-container\">\n",
              "    <div>\n",
              "<style scoped>\n",
              "    .dataframe tbody tr th:only-of-type {\n",
              "        vertical-align: middle;\n",
              "    }\n",
              "\n",
              "    .dataframe tbody tr th {\n",
              "        vertical-align: top;\n",
              "    }\n",
              "\n",
              "    .dataframe thead th {\n",
              "        text-align: right;\n",
              "    }\n",
              "</style>\n",
              "<table border=\"1\" class=\"dataframe\">\n",
              "  <thead>\n",
              "    <tr style=\"text-align: right;\">\n",
              "      <th></th>\n",
              "      <th>id</th>\n",
              "      <th>date</th>\n",
              "      <th>store_nbr</th>\n",
              "      <th>family</th>\n",
              "      <th>onpromotion</th>\n",
              "      <th>city</th>\n",
              "      <th>state</th>\n",
              "      <th>holiday_type</th>\n",
              "      <th>cluster</th>\n",
              "      <th>daily_oil_prices</th>\n",
              "      <th>...</th>\n",
              "      <th>locale</th>\n",
              "      <th>locale_name</th>\n",
              "      <th>description</th>\n",
              "      <th>transferred</th>\n",
              "      <th>transactions</th>\n",
              "      <th>day_of_week</th>\n",
              "      <th>week_of_year</th>\n",
              "      <th>month</th>\n",
              "      <th>year</th>\n",
              "      <th>is_weekend</th>\n",
              "    </tr>\n",
              "  </thead>\n",
              "  <tbody>\n",
              "    <tr>\n",
              "      <th>0</th>\n",
              "      <td>3000888</td>\n",
              "      <td>2017-08-16</td>\n",
              "      <td>1</td>\n",
              "      <td>AUTOMOTIVE</td>\n",
              "      <td>0</td>\n",
              "      <td>Quito</td>\n",
              "      <td>Pichincha</td>\n",
              "      <td>D</td>\n",
              "      <td>13</td>\n",
              "      <td>46.8</td>\n",
              "      <td>...</td>\n",
              "      <td>NaN</td>\n",
              "      <td>NaN</td>\n",
              "      <td>NaN</td>\n",
              "      <td>NaN</td>\n",
              "      <td>0.0</td>\n",
              "      <td>2</td>\n",
              "      <td>33</td>\n",
              "      <td>8</td>\n",
              "      <td>2017</td>\n",
              "      <td>0</td>\n",
              "    </tr>\n",
              "    <tr>\n",
              "      <th>1</th>\n",
              "      <td>3000889</td>\n",
              "      <td>2017-08-16</td>\n",
              "      <td>1</td>\n",
              "      <td>BABY CARE</td>\n",
              "      <td>0</td>\n",
              "      <td>Quito</td>\n",
              "      <td>Pichincha</td>\n",
              "      <td>D</td>\n",
              "      <td>13</td>\n",
              "      <td>46.8</td>\n",
              "      <td>...</td>\n",
              "      <td>NaN</td>\n",
              "      <td>NaN</td>\n",
              "      <td>NaN</td>\n",
              "      <td>NaN</td>\n",
              "      <td>0.0</td>\n",
              "      <td>2</td>\n",
              "      <td>33</td>\n",
              "      <td>8</td>\n",
              "      <td>2017</td>\n",
              "      <td>0</td>\n",
              "    </tr>\n",
              "    <tr>\n",
              "      <th>2</th>\n",
              "      <td>3000890</td>\n",
              "      <td>2017-08-16</td>\n",
              "      <td>1</td>\n",
              "      <td>BEAUTY</td>\n",
              "      <td>2</td>\n",
              "      <td>Quito</td>\n",
              "      <td>Pichincha</td>\n",
              "      <td>D</td>\n",
              "      <td>13</td>\n",
              "      <td>46.8</td>\n",
              "      <td>...</td>\n",
              "      <td>NaN</td>\n",
              "      <td>NaN</td>\n",
              "      <td>NaN</td>\n",
              "      <td>NaN</td>\n",
              "      <td>0.0</td>\n",
              "      <td>2</td>\n",
              "      <td>33</td>\n",
              "      <td>8</td>\n",
              "      <td>2017</td>\n",
              "      <td>0</td>\n",
              "    </tr>\n",
              "    <tr>\n",
              "      <th>3</th>\n",
              "      <td>3000891</td>\n",
              "      <td>2017-08-16</td>\n",
              "      <td>1</td>\n",
              "      <td>BEVERAGES</td>\n",
              "      <td>20</td>\n",
              "      <td>Quito</td>\n",
              "      <td>Pichincha</td>\n",
              "      <td>D</td>\n",
              "      <td>13</td>\n",
              "      <td>46.8</td>\n",
              "      <td>...</td>\n",
              "      <td>NaN</td>\n",
              "      <td>NaN</td>\n",
              "      <td>NaN</td>\n",
              "      <td>NaN</td>\n",
              "      <td>0.0</td>\n",
              "      <td>2</td>\n",
              "      <td>33</td>\n",
              "      <td>8</td>\n",
              "      <td>2017</td>\n",
              "      <td>0</td>\n",
              "    </tr>\n",
              "    <tr>\n",
              "      <th>4</th>\n",
              "      <td>3000892</td>\n",
              "      <td>2017-08-16</td>\n",
              "      <td>1</td>\n",
              "      <td>BOOKS</td>\n",
              "      <td>0</td>\n",
              "      <td>Quito</td>\n",
              "      <td>Pichincha</td>\n",
              "      <td>D</td>\n",
              "      <td>13</td>\n",
              "      <td>46.8</td>\n",
              "      <td>...</td>\n",
              "      <td>NaN</td>\n",
              "      <td>NaN</td>\n",
              "      <td>NaN</td>\n",
              "      <td>NaN</td>\n",
              "      <td>0.0</td>\n",
              "      <td>2</td>\n",
              "      <td>33</td>\n",
              "      <td>8</td>\n",
              "      <td>2017</td>\n",
              "      <td>0</td>\n",
              "    </tr>\n",
              "  </tbody>\n",
              "</table>\n",
              "<p>5 rows × 21 columns</p>\n",
              "</div>\n",
              "    <div class=\"colab-df-buttons\">\n",
              "\n",
              "  <div class=\"colab-df-container\">\n",
              "    <button class=\"colab-df-convert\" onclick=\"convertToInteractive('df-fa746125-a836-47b2-b159-d732355b003b')\"\n",
              "            title=\"Convert this dataframe to an interactive table.\"\n",
              "            style=\"display:none;\">\n",
              "\n",
              "  <svg xmlns=\"http://www.w3.org/2000/svg\" height=\"24px\" viewBox=\"0 -960 960 960\">\n",
              "    <path d=\"M120-120v-720h720v720H120Zm60-500h600v-160H180v160Zm220 220h160v-160H400v160Zm0 220h160v-160H400v160ZM180-400h160v-160H180v160Zm440 0h160v-160H620v160ZM180-180h160v-160H180v160Zm440 0h160v-160H620v160Z\"/>\n",
              "  </svg>\n",
              "    </button>\n",
              "\n",
              "  <style>\n",
              "    .colab-df-container {\n",
              "      display:flex;\n",
              "      gap: 12px;\n",
              "    }\n",
              "\n",
              "    .colab-df-convert {\n",
              "      background-color: #E8F0FE;\n",
              "      border: none;\n",
              "      border-radius: 50%;\n",
              "      cursor: pointer;\n",
              "      display: none;\n",
              "      fill: #1967D2;\n",
              "      height: 32px;\n",
              "      padding: 0 0 0 0;\n",
              "      width: 32px;\n",
              "    }\n",
              "\n",
              "    .colab-df-convert:hover {\n",
              "      background-color: #E2EBFA;\n",
              "      box-shadow: 0px 1px 2px rgba(60, 64, 67, 0.3), 0px 1px 3px 1px rgba(60, 64, 67, 0.15);\n",
              "      fill: #174EA6;\n",
              "    }\n",
              "\n",
              "    .colab-df-buttons div {\n",
              "      margin-bottom: 4px;\n",
              "    }\n",
              "\n",
              "    [theme=dark] .colab-df-convert {\n",
              "      background-color: #3B4455;\n",
              "      fill: #D2E3FC;\n",
              "    }\n",
              "\n",
              "    [theme=dark] .colab-df-convert:hover {\n",
              "      background-color: #434B5C;\n",
              "      box-shadow: 0px 1px 3px 1px rgba(0, 0, 0, 0.15);\n",
              "      filter: drop-shadow(0px 1px 2px rgba(0, 0, 0, 0.3));\n",
              "      fill: #FFFFFF;\n",
              "    }\n",
              "  </style>\n",
              "\n",
              "    <script>\n",
              "      const buttonEl =\n",
              "        document.querySelector('#df-fa746125-a836-47b2-b159-d732355b003b button.colab-df-convert');\n",
              "      buttonEl.style.display =\n",
              "        google.colab.kernel.accessAllowed ? 'block' : 'none';\n",
              "\n",
              "      async function convertToInteractive(key) {\n",
              "        const element = document.querySelector('#df-fa746125-a836-47b2-b159-d732355b003b');\n",
              "        const dataTable =\n",
              "          await google.colab.kernel.invokeFunction('convertToInteractive',\n",
              "                                                    [key], {});\n",
              "        if (!dataTable) return;\n",
              "\n",
              "        const docLinkHtml = 'Like what you see? Visit the ' +\n",
              "          '<a target=\"_blank\" href=https://colab.research.google.com/notebooks/data_table.ipynb>data table notebook</a>'\n",
              "          + ' to learn more about interactive tables.';\n",
              "        element.innerHTML = '';\n",
              "        dataTable['output_type'] = 'display_data';\n",
              "        await google.colab.output.renderOutput(dataTable, element);\n",
              "        const docLink = document.createElement('div');\n",
              "        docLink.innerHTML = docLinkHtml;\n",
              "        element.appendChild(docLink);\n",
              "      }\n",
              "    </script>\n",
              "  </div>\n",
              "\n",
              "\n",
              "<div id=\"df-9a9f60e8-8e51-4818-a5f2-9ecfbf7fcd10\">\n",
              "  <button class=\"colab-df-quickchart\" onclick=\"quickchart('df-9a9f60e8-8e51-4818-a5f2-9ecfbf7fcd10')\"\n",
              "            title=\"Suggest charts\"\n",
              "            style=\"display:none;\">\n",
              "\n",
              "<svg xmlns=\"http://www.w3.org/2000/svg\" height=\"24px\"viewBox=\"0 0 24 24\"\n",
              "     width=\"24px\">\n",
              "    <g>\n",
              "        <path d=\"M19 3H5c-1.1 0-2 .9-2 2v14c0 1.1.9 2 2 2h14c1.1 0 2-.9 2-2V5c0-1.1-.9-2-2-2zM9 17H7v-7h2v7zm4 0h-2V7h2v10zm4 0h-2v-4h2v4z\"/>\n",
              "    </g>\n",
              "</svg>\n",
              "  </button>\n",
              "\n",
              "<style>\n",
              "  .colab-df-quickchart {\n",
              "      --bg-color: #E8F0FE;\n",
              "      --fill-color: #1967D2;\n",
              "      --hover-bg-color: #E2EBFA;\n",
              "      --hover-fill-color: #174EA6;\n",
              "      --disabled-fill-color: #AAA;\n",
              "      --disabled-bg-color: #DDD;\n",
              "  }\n",
              "\n",
              "  [theme=dark] .colab-df-quickchart {\n",
              "      --bg-color: #3B4455;\n",
              "      --fill-color: #D2E3FC;\n",
              "      --hover-bg-color: #434B5C;\n",
              "      --hover-fill-color: #FFFFFF;\n",
              "      --disabled-bg-color: #3B4455;\n",
              "      --disabled-fill-color: #666;\n",
              "  }\n",
              "\n",
              "  .colab-df-quickchart {\n",
              "    background-color: var(--bg-color);\n",
              "    border: none;\n",
              "    border-radius: 50%;\n",
              "    cursor: pointer;\n",
              "    display: none;\n",
              "    fill: var(--fill-color);\n",
              "    height: 32px;\n",
              "    padding: 0;\n",
              "    width: 32px;\n",
              "  }\n",
              "\n",
              "  .colab-df-quickchart:hover {\n",
              "    background-color: var(--hover-bg-color);\n",
              "    box-shadow: 0 1px 2px rgba(60, 64, 67, 0.3), 0 1px 3px 1px rgba(60, 64, 67, 0.15);\n",
              "    fill: var(--button-hover-fill-color);\n",
              "  }\n",
              "\n",
              "  .colab-df-quickchart-complete:disabled,\n",
              "  .colab-df-quickchart-complete:disabled:hover {\n",
              "    background-color: var(--disabled-bg-color);\n",
              "    fill: var(--disabled-fill-color);\n",
              "    box-shadow: none;\n",
              "  }\n",
              "\n",
              "  .colab-df-spinner {\n",
              "    border: 2px solid var(--fill-color);\n",
              "    border-color: transparent;\n",
              "    border-bottom-color: var(--fill-color);\n",
              "    animation:\n",
              "      spin 1s steps(1) infinite;\n",
              "  }\n",
              "\n",
              "  @keyframes spin {\n",
              "    0% {\n",
              "      border-color: transparent;\n",
              "      border-bottom-color: var(--fill-color);\n",
              "      border-left-color: var(--fill-color);\n",
              "    }\n",
              "    20% {\n",
              "      border-color: transparent;\n",
              "      border-left-color: var(--fill-color);\n",
              "      border-top-color: var(--fill-color);\n",
              "    }\n",
              "    30% {\n",
              "      border-color: transparent;\n",
              "      border-left-color: var(--fill-color);\n",
              "      border-top-color: var(--fill-color);\n",
              "      border-right-color: var(--fill-color);\n",
              "    }\n",
              "    40% {\n",
              "      border-color: transparent;\n",
              "      border-right-color: var(--fill-color);\n",
              "      border-top-color: var(--fill-color);\n",
              "    }\n",
              "    60% {\n",
              "      border-color: transparent;\n",
              "      border-right-color: var(--fill-color);\n",
              "    }\n",
              "    80% {\n",
              "      border-color: transparent;\n",
              "      border-right-color: var(--fill-color);\n",
              "      border-bottom-color: var(--fill-color);\n",
              "    }\n",
              "    90% {\n",
              "      border-color: transparent;\n",
              "      border-bottom-color: var(--fill-color);\n",
              "    }\n",
              "  }\n",
              "</style>\n",
              "\n",
              "  <script>\n",
              "    async function quickchart(key) {\n",
              "      const quickchartButtonEl =\n",
              "        document.querySelector('#' + key + ' button');\n",
              "      quickchartButtonEl.disabled = true;  // To prevent multiple clicks.\n",
              "      quickchartButtonEl.classList.add('colab-df-spinner');\n",
              "      try {\n",
              "        const charts = await google.colab.kernel.invokeFunction(\n",
              "            'suggestCharts', [key], {});\n",
              "      } catch (error) {\n",
              "        console.error('Error during call to suggestCharts:', error);\n",
              "      }\n",
              "      quickchartButtonEl.classList.remove('colab-df-spinner');\n",
              "      quickchartButtonEl.classList.add('colab-df-quickchart-complete');\n",
              "    }\n",
              "    (() => {\n",
              "      let quickchartButtonEl =\n",
              "        document.querySelector('#df-9a9f60e8-8e51-4818-a5f2-9ecfbf7fcd10 button');\n",
              "      quickchartButtonEl.style.display =\n",
              "        google.colab.kernel.accessAllowed ? 'block' : 'none';\n",
              "    })();\n",
              "  </script>\n",
              "</div>\n",
              "\n",
              "    </div>\n",
              "  </div>\n"
            ],
            "text/plain": [
              "        id       date  store_nbr      family  onpromotion   city      state  \\\n",
              "0  3000888 2017-08-16          1  AUTOMOTIVE            0  Quito  Pichincha   \n",
              "1  3000889 2017-08-16          1   BABY CARE            0  Quito  Pichincha   \n",
              "2  3000890 2017-08-16          1      BEAUTY            2  Quito  Pichincha   \n",
              "3  3000891 2017-08-16          1   BEVERAGES           20  Quito  Pichincha   \n",
              "4  3000892 2017-08-16          1       BOOKS            0  Quito  Pichincha   \n",
              "\n",
              "  holiday_type  cluster  daily_oil_prices  ... locale locale_name description  \\\n",
              "0            D       13              46.8  ...    NaN         NaN         NaN   \n",
              "1            D       13              46.8  ...    NaN         NaN         NaN   \n",
              "2            D       13              46.8  ...    NaN         NaN         NaN   \n",
              "3            D       13              46.8  ...    NaN         NaN         NaN   \n",
              "4            D       13              46.8  ...    NaN         NaN         NaN   \n",
              "\n",
              "  transferred transactions  day_of_week  week_of_year  month  year  is_weekend  \n",
              "0         NaN          0.0            2            33      8  2017           0  \n",
              "1         NaN          0.0            2            33      8  2017           0  \n",
              "2         NaN          0.0            2            33      8  2017           0  \n",
              "3         NaN          0.0            2            33      8  2017           0  \n",
              "4         NaN          0.0            2            33      8  2017           0  \n",
              "\n",
              "[5 rows x 21 columns]"
            ]
          },
          "execution_count": 48,
          "metadata": {},
          "output_type": "execute_result"
        }
      ],
      "source": [
        "test.head()"
      ]
    },
    {
      "cell_type": "code",
      "execution_count": 48,
      "metadata": {
        "id": "Ssr6efAXCvlV"
      },
      "outputs": [],
      "source": []
    },
    {
      "cell_type": "markdown",
      "metadata": {
        "id": "3cazBQTODr6C"
      },
      "source": [
        "# <span style='color:dodgerblue; font-weight:bold;'><a name=\"4.3\">4.3 - Data_Encoder</a></span>"
      ]
    },
    {
      "cell_type": "markdown",
      "metadata": {
        "id": "a94f696c",
        "papermill": {
          "duration": 0.0363,
          "end_time": "2024-10-10T21:34:26.486457",
          "exception": false,
          "start_time": "2024-10-10T21:34:26.450157",
          "status": "completed"
        },
        "tags": []
      },
      "source": [
        "Dropping some features"
      ]
    },
    {
      "cell_type": "code",
      "execution_count": 49,
      "metadata": {
        "id": "f1b3ecc8"
      },
      "outputs": [],
      "source": [
        "data_encoder_train={\n",
        "    \"family_encoder\":train['family'],\n",
        "    'holiday_type_encoder':train['holiday_type'],\n",
        "    'city_encoder':train['city'],\n",
        "    'state_encoder':train['state'],\n",
        "    'store_type_encoder':train['store_type'],\n",
        "    'locale_encoder':train['locale'],\n",
        "    'locale_name_encoder':train['locale_name'],\n",
        "    'description_encoder':train['description'],\n",
        "    'transferred_encoder':train['transferred']\n",
        "\n",
        "}\n",
        "data_encoder_test={\n",
        "    \"family_encoder\":test['family'],\n",
        "    'holiday_type_encoder':test['holiday_type'],\n",
        "    'city_encoder':test['city'],\n",
        "    'state_encoder':test['state'],\n",
        "    'store_type_encoder':test['store_type'],\n",
        "    'locale_encoder':test['locale'],\n",
        "    'locale_name_encoder':test['locale_name'],\n",
        "    'description_encoder':test['description'],\n",
        "    'transferred_encoder':test['transferred']\n",
        "\n",
        "}"
      ]
    },
    {
      "cell_type": "markdown",
      "metadata": {
        "id": "ljgtFk77IR71"
      },
      "source": [
        "### 5 - XGBoost Model"
      ]
    },
    {
      "cell_type": "code",
      "execution_count": 50,
      "metadata": {
        "id": "yVLLlRnQNhGD"
      },
      "outputs": [],
      "source": [
        "from sklearn.preprocessing import LabelEncoder\n",
        "\n",
        "label_encoder = LabelEncoder()\n",
        "\n",
        "for name,value in data_encoder_train.items():\n",
        "  train[name] = label_encoder.fit_transform(value)"
      ]
    },
    {
      "cell_type": "code",
      "execution_count": 51,
      "metadata": {
        "id": "DVLPLPq3Ng5o"
      },
      "outputs": [],
      "source": [
        "for name,value in data_encoder_test.items():\n",
        "   test[name] = label_encoder.fit_transform(value)"
      ]
    },
    {
      "cell_type": "code",
      "execution_count": 52,
      "metadata": {
        "colab": {
          "base_uri": "https://localhost:8080/"
        },
        "id": "hwINLPVHDy2o",
        "outputId": "3bed884b-5fee-4ab3-addb-f6394671907b"
      },
      "outputs": [
        {
          "data": {
            "text/plain": [
              "Index(['id', 'date', 'store_nbr', 'family', 'sales', 'onpromotion', 'city',\n",
              "       'state', 'holiday_type', 'cluster', 'daily_oil_prices', 'store_type',\n",
              "       'locale', 'locale_name', 'description', 'transferred', 'transactions',\n",
              "       'day_of_week', 'week_of_year', 'month', 'year', 'is_weekend',\n",
              "       'family_encoder', 'holiday_type_encoder', 'city_encoder',\n",
              "       'state_encoder', 'store_type_encoder', 'locale_encoder',\n",
              "       'locale_name_encoder', 'description_encoder', 'transferred_encoder'],\n",
              "      dtype='object')"
            ]
          },
          "execution_count": 52,
          "metadata": {},
          "output_type": "execute_result"
        }
      ],
      "source": [
        "train.columns"
      ]
    },
    {
      "cell_type": "code",
      "execution_count": 53,
      "metadata": {
        "id": "a5TpKQZ_MmoZ"
      },
      "outputs": [],
      "source": [
        "train=train[[ 'store_nbr', 'sales', 'onpromotion',\n",
        "       'cluster', 'daily_oil_prices', 'transactions',\n",
        "       'family_encoder', 'holiday_type_encoder', 'city_encoder',\n",
        "       'state_encoder', 'store_type_encoder', 'locale_encoder',\n",
        "       'locale_name_encoder', 'description_encoder', 'transferred_encoder',\n",
        "       'day_of_week', 'week_of_year', 'month', 'year', 'is_weekend']]"
      ]
    },
    {
      "cell_type": "code",
      "execution_count": 54,
      "metadata": {
        "colab": {
          "base_uri": "https://localhost:8080/",
          "height": 711
        },
        "id": "Ekcr0uraMqQK",
        "outputId": "91b887e5-434c-45c7-c020-958cfae315f9"
      },
      "outputs": [
        {
          "data": {
            "text/html": [
              "<div>\n",
              "<style scoped>\n",
              "    .dataframe tbody tr th:only-of-type {\n",
              "        vertical-align: middle;\n",
              "    }\n",
              "\n",
              "    .dataframe tbody tr th {\n",
              "        vertical-align: top;\n",
              "    }\n",
              "\n",
              "    .dataframe thead th {\n",
              "        text-align: right;\n",
              "    }\n",
              "</style>\n",
              "<table border=\"1\" class=\"dataframe\">\n",
              "  <thead>\n",
              "    <tr style=\"text-align: right;\">\n",
              "      <th></th>\n",
              "      <th>sales</th>\n",
              "    </tr>\n",
              "  </thead>\n",
              "  <tbody>\n",
              "    <tr>\n",
              "      <th>store_nbr</th>\n",
              "      <td>0.005003</td>\n",
              "    </tr>\n",
              "    <tr>\n",
              "      <th>sales</th>\n",
              "      <td>1.000000</td>\n",
              "    </tr>\n",
              "    <tr>\n",
              "      <th>onpromotion</th>\n",
              "      <td>0.349335</td>\n",
              "    </tr>\n",
              "    <tr>\n",
              "      <th>cluster</th>\n",
              "      <td>0.038401</td>\n",
              "    </tr>\n",
              "    <tr>\n",
              "      <th>daily_oil_prices</th>\n",
              "      <td>-0.098765</td>\n",
              "    </tr>\n",
              "    <tr>\n",
              "      <th>transactions</th>\n",
              "      <td>0.243031</td>\n",
              "    </tr>\n",
              "    <tr>\n",
              "      <th>family_encoder</th>\n",
              "      <td>-0.142665</td>\n",
              "    </tr>\n",
              "    <tr>\n",
              "      <th>holiday_type_encoder</th>\n",
              "      <td>-0.060975</td>\n",
              "    </tr>\n",
              "    <tr>\n",
              "      <th>city_encoder</th>\n",
              "      <td>0.036681</td>\n",
              "    </tr>\n",
              "    <tr>\n",
              "      <th>state_encoder</th>\n",
              "      <td>0.070383</td>\n",
              "    </tr>\n",
              "    <tr>\n",
              "      <th>store_type_encoder</th>\n",
              "      <td>-0.015903</td>\n",
              "    </tr>\n",
              "    <tr>\n",
              "      <th>locale_encoder</th>\n",
              "      <td>-0.009838</td>\n",
              "    </tr>\n",
              "    <tr>\n",
              "      <th>locale_name_encoder</th>\n",
              "      <td>-0.010932</td>\n",
              "    </tr>\n",
              "    <tr>\n",
              "      <th>description_encoder</th>\n",
              "      <td>-0.006505</td>\n",
              "    </tr>\n",
              "    <tr>\n",
              "      <th>transferred_encoder</th>\n",
              "      <td>-0.011793</td>\n",
              "    </tr>\n",
              "    <tr>\n",
              "      <th>day_of_week</th>\n",
              "      <td>0.027536</td>\n",
              "    </tr>\n",
              "    <tr>\n",
              "      <th>week_of_year</th>\n",
              "      <td>0.019075</td>\n",
              "    </tr>\n",
              "    <tr>\n",
              "      <th>month</th>\n",
              "      <td>0.024001</td>\n",
              "    </tr>\n",
              "    <tr>\n",
              "      <th>year</th>\n",
              "      <td>0.103308</td>\n",
              "    </tr>\n",
              "    <tr>\n",
              "      <th>is_weekend</th>\n",
              "      <td>0.038363</td>\n",
              "    </tr>\n",
              "  </tbody>\n",
              "</table>\n",
              "</div><br><label><b>dtype:</b> float64</label>"
            ],
            "text/plain": [
              "store_nbr               0.005003\n",
              "sales                   1.000000\n",
              "onpromotion             0.349335\n",
              "cluster                 0.038401\n",
              "daily_oil_prices       -0.098765\n",
              "transactions            0.243031\n",
              "family_encoder         -0.142665\n",
              "holiday_type_encoder   -0.060975\n",
              "city_encoder            0.036681\n",
              "state_encoder           0.070383\n",
              "store_type_encoder     -0.015903\n",
              "locale_encoder         -0.009838\n",
              "locale_name_encoder    -0.010932\n",
              "description_encoder    -0.006505\n",
              "transferred_encoder    -0.011793\n",
              "day_of_week             0.027536\n",
              "week_of_year            0.019075\n",
              "month                   0.024001\n",
              "year                    0.103308\n",
              "is_weekend              0.038363\n",
              "Name: sales, dtype: float64"
            ]
          },
          "execution_count": 54,
          "metadata": {},
          "output_type": "execute_result"
        }
      ],
      "source": [
        "train.corr()['sales']"
      ]
    },
    {
      "cell_type": "code",
      "execution_count": 55,
      "metadata": {
        "colab": {
          "base_uri": "https://localhost:8080/"
        },
        "id": "a6cOEyjWN9sG",
        "outputId": "c624025a-9335-410a-c4ca-76b0f4b0c4f0"
      },
      "outputs": [
        {
          "data": {
            "text/plain": [
              "Index(['id', 'date', 'store_nbr', 'family', 'onpromotion', 'city', 'state',\n",
              "       'holiday_type', 'cluster', 'daily_oil_prices', 'store_type', 'locale',\n",
              "       'locale_name', 'description', 'transferred', 'transactions',\n",
              "       'day_of_week', 'week_of_year', 'month', 'year', 'is_weekend',\n",
              "       'family_encoder', 'holiday_type_encoder', 'city_encoder',\n",
              "       'state_encoder', 'store_type_encoder', 'locale_encoder',\n",
              "       'locale_name_encoder', 'description_encoder', 'transferred_encoder'],\n",
              "      dtype='object')"
            ]
          },
          "execution_count": 55,
          "metadata": {},
          "output_type": "execute_result"
        }
      ],
      "source": [
        "test.columns"
      ]
    },
    {
      "cell_type": "code",
      "execution_count": 55,
      "metadata": {
        "id": "6q_99b1lOCTd"
      },
      "outputs": [],
      "source": []
    },
    {
      "cell_type": "code",
      "execution_count": 56,
      "metadata": {
        "id": "e85fc985"
      },
      "outputs": [],
      "source": [
        "x=train[[ 'store_nbr', 'onpromotion',\n",
        "       'cluster', 'daily_oil_prices', 'transactions',\n",
        "       'family_encoder', 'holiday_type_encoder', 'city_encoder',\n",
        "       'state_encoder', 'store_type_encoder', 'locale_encoder',\n",
        "       'locale_name_encoder', 'description_encoder', 'transferred_encoder',\n",
        "       'day_of_week', 'week_of_year', 'month', 'year', 'is_weekend']]\n",
        "y=train['sales']\n"
      ]
    },
    {
      "cell_type": "code",
      "execution_count": 57,
      "metadata": {
        "id": "34f003b2"
      },
      "outputs": [],
      "source": [
        "X_test_final = test\n",
        "X_test_final=X_test_final[x.columns]\n"
      ]
    },
    {
      "cell_type": "code",
      "execution_count": 58,
      "metadata": {
        "colab": {
          "base_uri": "https://localhost:8080/"
        },
        "id": "9c5efccd",
        "outputId": "e8b2287a-0a6d-486f-f279-37d96875b0ec"
      },
      "outputs": [
        {
          "name": "stdout",
          "output_type": "stream",
          "text": [
            "Train set: (2138043, 19) (2138043,)\n",
            "Test set: (916305, 19) (916305,)\n"
          ]
        }
      ],
      "source": [
        "x_train,x_test,y_train,y_test=train_test_split(x,y,test_size=0.3, random_state=4)\n",
        "print ('Train set:', x_train.shape,  y_train.shape)\n",
        "print ('Test set:', x_test.shape,  y_test.shape)"
      ]
    },
    {
      "cell_type": "code",
      "execution_count": 59,
      "metadata": {
        "id": "82445ecb"
      },
      "outputs": [],
      "source": [
        "input=[('polynomial',PolynomialFeatures(degree=2)),('scale',StandardScaler()),('model', xgb.XGBRegressor(objective='reg:squarederror', n_estimators=100, learning_rate=0.1,\n",
        " max_depth=6))]\n",
        "pipe=Pipeline(input)"
      ]
    },
    {
      "cell_type": "code",
      "execution_count": 60,
      "metadata": {
        "id": "fa512f0c"
      },
      "outputs": [],
      "source": [
        "x_train_sample = x_train.sample(frac=0.1, random_state=42)\n",
        "y_train_sample = y_train.sample(frac=0.1, random_state=42)\n",
        "x_test = x_test.sample(frac=0.1, random_state=42)\n",
        "y_test = y_test.sample(frac=0.1, random_state=42)\n"
      ]
    },
    {
      "cell_type": "code",
      "execution_count": 61,
      "metadata": {
        "colab": {
          "base_uri": "https://localhost:8080/",
          "height": 183
        },
        "id": "a0db5a05",
        "outputId": "26e2dffa-258c-4f0f-b5ad-35904b1d7de1"
      },
      "outputs": [
        {
          "data": {
            "text/html": [
              "<style>#sk-container-id-1 {\n",
              "  /* Definition of color scheme common for light and dark mode */\n",
              "  --sklearn-color-text: black;\n",
              "  --sklearn-color-line: gray;\n",
              "  /* Definition of color scheme for unfitted estimators */\n",
              "  --sklearn-color-unfitted-level-0: #fff5e6;\n",
              "  --sklearn-color-unfitted-level-1: #f6e4d2;\n",
              "  --sklearn-color-unfitted-level-2: #ffe0b3;\n",
              "  --sklearn-color-unfitted-level-3: chocolate;\n",
              "  /* Definition of color scheme for fitted estimators */\n",
              "  --sklearn-color-fitted-level-0: #f0f8ff;\n",
              "  --sklearn-color-fitted-level-1: #d4ebff;\n",
              "  --sklearn-color-fitted-level-2: #b3dbfd;\n",
              "  --sklearn-color-fitted-level-3: cornflowerblue;\n",
              "\n",
              "  /* Specific color for light theme */\n",
              "  --sklearn-color-text-on-default-background: var(--sg-text-color, var(--theme-code-foreground, var(--jp-content-font-color1, black)));\n",
              "  --sklearn-color-background: var(--sg-background-color, var(--theme-background, var(--jp-layout-color0, white)));\n",
              "  --sklearn-color-border-box: var(--sg-text-color, var(--theme-code-foreground, var(--jp-content-font-color1, black)));\n",
              "  --sklearn-color-icon: #696969;\n",
              "\n",
              "  @media (prefers-color-scheme: dark) {\n",
              "    /* Redefinition of color scheme for dark theme */\n",
              "    --sklearn-color-text-on-default-background: var(--sg-text-color, var(--theme-code-foreground, var(--jp-content-font-color1, white)));\n",
              "    --sklearn-color-background: var(--sg-background-color, var(--theme-background, var(--jp-layout-color0, #111)));\n",
              "    --sklearn-color-border-box: var(--sg-text-color, var(--theme-code-foreground, var(--jp-content-font-color1, white)));\n",
              "    --sklearn-color-icon: #878787;\n",
              "  }\n",
              "}\n",
              "\n",
              "#sk-container-id-1 {\n",
              "  color: var(--sklearn-color-text);\n",
              "}\n",
              "\n",
              "#sk-container-id-1 pre {\n",
              "  padding: 0;\n",
              "}\n",
              "\n",
              "#sk-container-id-1 input.sk-hidden--visually {\n",
              "  border: 0;\n",
              "  clip: rect(1px 1px 1px 1px);\n",
              "  clip: rect(1px, 1px, 1px, 1px);\n",
              "  height: 1px;\n",
              "  margin: -1px;\n",
              "  overflow: hidden;\n",
              "  padding: 0;\n",
              "  position: absolute;\n",
              "  width: 1px;\n",
              "}\n",
              "\n",
              "#sk-container-id-1 div.sk-dashed-wrapped {\n",
              "  border: 1px dashed var(--sklearn-color-line);\n",
              "  margin: 0 0.4em 0.5em 0.4em;\n",
              "  box-sizing: border-box;\n",
              "  padding-bottom: 0.4em;\n",
              "  background-color: var(--sklearn-color-background);\n",
              "}\n",
              "\n",
              "#sk-container-id-1 div.sk-container {\n",
              "  /* jupyter's `normalize.less` sets `[hidden] { display: none; }`\n",
              "     but bootstrap.min.css set `[hidden] { display: none !important; }`\n",
              "     so we also need the `!important` here to be able to override the\n",
              "     default hidden behavior on the sphinx rendered scikit-learn.org.\n",
              "     See: https://github.com/scikit-learn/scikit-learn/issues/21755 */\n",
              "  display: inline-block !important;\n",
              "  position: relative;\n",
              "}\n",
              "\n",
              "#sk-container-id-1 div.sk-text-repr-fallback {\n",
              "  display: none;\n",
              "}\n",
              "\n",
              "div.sk-parallel-item,\n",
              "div.sk-serial,\n",
              "div.sk-item {\n",
              "  /* draw centered vertical line to link estimators */\n",
              "  background-image: linear-gradient(var(--sklearn-color-text-on-default-background), var(--sklearn-color-text-on-default-background));\n",
              "  background-size: 2px 100%;\n",
              "  background-repeat: no-repeat;\n",
              "  background-position: center center;\n",
              "}\n",
              "\n",
              "/* Parallel-specific style estimator block */\n",
              "\n",
              "#sk-container-id-1 div.sk-parallel-item::after {\n",
              "  content: \"\";\n",
              "  width: 100%;\n",
              "  border-bottom: 2px solid var(--sklearn-color-text-on-default-background);\n",
              "  flex-grow: 1;\n",
              "}\n",
              "\n",
              "#sk-container-id-1 div.sk-parallel {\n",
              "  display: flex;\n",
              "  align-items: stretch;\n",
              "  justify-content: center;\n",
              "  background-color: var(--sklearn-color-background);\n",
              "  position: relative;\n",
              "}\n",
              "\n",
              "#sk-container-id-1 div.sk-parallel-item {\n",
              "  display: flex;\n",
              "  flex-direction: column;\n",
              "}\n",
              "\n",
              "#sk-container-id-1 div.sk-parallel-item:first-child::after {\n",
              "  align-self: flex-end;\n",
              "  width: 50%;\n",
              "}\n",
              "\n",
              "#sk-container-id-1 div.sk-parallel-item:last-child::after {\n",
              "  align-self: flex-start;\n",
              "  width: 50%;\n",
              "}\n",
              "\n",
              "#sk-container-id-1 div.sk-parallel-item:only-child::after {\n",
              "  width: 0;\n",
              "}\n",
              "\n",
              "/* Serial-specific style estimator block */\n",
              "\n",
              "#sk-container-id-1 div.sk-serial {\n",
              "  display: flex;\n",
              "  flex-direction: column;\n",
              "  align-items: center;\n",
              "  background-color: var(--sklearn-color-background);\n",
              "  padding-right: 1em;\n",
              "  padding-left: 1em;\n",
              "}\n",
              "\n",
              "\n",
              "/* Toggleable style: style used for estimator/Pipeline/ColumnTransformer box that is\n",
              "clickable and can be expanded/collapsed.\n",
              "- Pipeline and ColumnTransformer use this feature and define the default style\n",
              "- Estimators will overwrite some part of the style using the `sk-estimator` class\n",
              "*/\n",
              "\n",
              "/* Pipeline and ColumnTransformer style (default) */\n",
              "\n",
              "#sk-container-id-1 div.sk-toggleable {\n",
              "  /* Default theme specific background. It is overwritten whether we have a\n",
              "  specific estimator or a Pipeline/ColumnTransformer */\n",
              "  background-color: var(--sklearn-color-background);\n",
              "}\n",
              "\n",
              "/* Toggleable label */\n",
              "#sk-container-id-1 label.sk-toggleable__label {\n",
              "  cursor: pointer;\n",
              "  display: block;\n",
              "  width: 100%;\n",
              "  margin-bottom: 0;\n",
              "  padding: 0.5em;\n",
              "  box-sizing: border-box;\n",
              "  text-align: center;\n",
              "}\n",
              "\n",
              "#sk-container-id-1 label.sk-toggleable__label-arrow:before {\n",
              "  /* Arrow on the left of the label */\n",
              "  content: \"▸\";\n",
              "  float: left;\n",
              "  margin-right: 0.25em;\n",
              "  color: var(--sklearn-color-icon);\n",
              "}\n",
              "\n",
              "#sk-container-id-1 label.sk-toggleable__label-arrow:hover:before {\n",
              "  color: var(--sklearn-color-text);\n",
              "}\n",
              "\n",
              "/* Toggleable content - dropdown */\n",
              "\n",
              "#sk-container-id-1 div.sk-toggleable__content {\n",
              "  max-height: 0;\n",
              "  max-width: 0;\n",
              "  overflow: hidden;\n",
              "  text-align: left;\n",
              "  /* unfitted */\n",
              "  background-color: var(--sklearn-color-unfitted-level-0);\n",
              "}\n",
              "\n",
              "#sk-container-id-1 div.sk-toggleable__content.fitted {\n",
              "  /* fitted */\n",
              "  background-color: var(--sklearn-color-fitted-level-0);\n",
              "}\n",
              "\n",
              "#sk-container-id-1 div.sk-toggleable__content pre {\n",
              "  margin: 0.2em;\n",
              "  border-radius: 0.25em;\n",
              "  color: var(--sklearn-color-text);\n",
              "  /* unfitted */\n",
              "  background-color: var(--sklearn-color-unfitted-level-0);\n",
              "}\n",
              "\n",
              "#sk-container-id-1 div.sk-toggleable__content.fitted pre {\n",
              "  /* unfitted */\n",
              "  background-color: var(--sklearn-color-fitted-level-0);\n",
              "}\n",
              "\n",
              "#sk-container-id-1 input.sk-toggleable__control:checked~div.sk-toggleable__content {\n",
              "  /* Expand drop-down */\n",
              "  max-height: 200px;\n",
              "  max-width: 100%;\n",
              "  overflow: auto;\n",
              "}\n",
              "\n",
              "#sk-container-id-1 input.sk-toggleable__control:checked~label.sk-toggleable__label-arrow:before {\n",
              "  content: \"▾\";\n",
              "}\n",
              "\n",
              "/* Pipeline/ColumnTransformer-specific style */\n",
              "\n",
              "#sk-container-id-1 div.sk-label input.sk-toggleable__control:checked~label.sk-toggleable__label {\n",
              "  color: var(--sklearn-color-text);\n",
              "  background-color: var(--sklearn-color-unfitted-level-2);\n",
              "}\n",
              "\n",
              "#sk-container-id-1 div.sk-label.fitted input.sk-toggleable__control:checked~label.sk-toggleable__label {\n",
              "  background-color: var(--sklearn-color-fitted-level-2);\n",
              "}\n",
              "\n",
              "/* Estimator-specific style */\n",
              "\n",
              "/* Colorize estimator box */\n",
              "#sk-container-id-1 div.sk-estimator input.sk-toggleable__control:checked~label.sk-toggleable__label {\n",
              "  /* unfitted */\n",
              "  background-color: var(--sklearn-color-unfitted-level-2);\n",
              "}\n",
              "\n",
              "#sk-container-id-1 div.sk-estimator.fitted input.sk-toggleable__control:checked~label.sk-toggleable__label {\n",
              "  /* fitted */\n",
              "  background-color: var(--sklearn-color-fitted-level-2);\n",
              "}\n",
              "\n",
              "#sk-container-id-1 div.sk-label label.sk-toggleable__label,\n",
              "#sk-container-id-1 div.sk-label label {\n",
              "  /* The background is the default theme color */\n",
              "  color: var(--sklearn-color-text-on-default-background);\n",
              "}\n",
              "\n",
              "/* On hover, darken the color of the background */\n",
              "#sk-container-id-1 div.sk-label:hover label.sk-toggleable__label {\n",
              "  color: var(--sklearn-color-text);\n",
              "  background-color: var(--sklearn-color-unfitted-level-2);\n",
              "}\n",
              "\n",
              "/* Label box, darken color on hover, fitted */\n",
              "#sk-container-id-1 div.sk-label.fitted:hover label.sk-toggleable__label.fitted {\n",
              "  color: var(--sklearn-color-text);\n",
              "  background-color: var(--sklearn-color-fitted-level-2);\n",
              "}\n",
              "\n",
              "/* Estimator label */\n",
              "\n",
              "#sk-container-id-1 div.sk-label label {\n",
              "  font-family: monospace;\n",
              "  font-weight: bold;\n",
              "  display: inline-block;\n",
              "  line-height: 1.2em;\n",
              "}\n",
              "\n",
              "#sk-container-id-1 div.sk-label-container {\n",
              "  text-align: center;\n",
              "}\n",
              "\n",
              "/* Estimator-specific */\n",
              "#sk-container-id-1 div.sk-estimator {\n",
              "  font-family: monospace;\n",
              "  border: 1px dotted var(--sklearn-color-border-box);\n",
              "  border-radius: 0.25em;\n",
              "  box-sizing: border-box;\n",
              "  margin-bottom: 0.5em;\n",
              "  /* unfitted */\n",
              "  background-color: var(--sklearn-color-unfitted-level-0);\n",
              "}\n",
              "\n",
              "#sk-container-id-1 div.sk-estimator.fitted {\n",
              "  /* fitted */\n",
              "  background-color: var(--sklearn-color-fitted-level-0);\n",
              "}\n",
              "\n",
              "/* on hover */\n",
              "#sk-container-id-1 div.sk-estimator:hover {\n",
              "  /* unfitted */\n",
              "  background-color: var(--sklearn-color-unfitted-level-2);\n",
              "}\n",
              "\n",
              "#sk-container-id-1 div.sk-estimator.fitted:hover {\n",
              "  /* fitted */\n",
              "  background-color: var(--sklearn-color-fitted-level-2);\n",
              "}\n",
              "\n",
              "/* Specification for estimator info (e.g. \"i\" and \"?\") */\n",
              "\n",
              "/* Common style for \"i\" and \"?\" */\n",
              "\n",
              ".sk-estimator-doc-link,\n",
              "a:link.sk-estimator-doc-link,\n",
              "a:visited.sk-estimator-doc-link {\n",
              "  float: right;\n",
              "  font-size: smaller;\n",
              "  line-height: 1em;\n",
              "  font-family: monospace;\n",
              "  background-color: var(--sklearn-color-background);\n",
              "  border-radius: 1em;\n",
              "  height: 1em;\n",
              "  width: 1em;\n",
              "  text-decoration: none !important;\n",
              "  margin-left: 1ex;\n",
              "  /* unfitted */\n",
              "  border: var(--sklearn-color-unfitted-level-1) 1pt solid;\n",
              "  color: var(--sklearn-color-unfitted-level-1);\n",
              "}\n",
              "\n",
              ".sk-estimator-doc-link.fitted,\n",
              "a:link.sk-estimator-doc-link.fitted,\n",
              "a:visited.sk-estimator-doc-link.fitted {\n",
              "  /* fitted */\n",
              "  border: var(--sklearn-color-fitted-level-1) 1pt solid;\n",
              "  color: var(--sklearn-color-fitted-level-1);\n",
              "}\n",
              "\n",
              "/* On hover */\n",
              "div.sk-estimator:hover .sk-estimator-doc-link:hover,\n",
              ".sk-estimator-doc-link:hover,\n",
              "div.sk-label-container:hover .sk-estimator-doc-link:hover,\n",
              ".sk-estimator-doc-link:hover {\n",
              "  /* unfitted */\n",
              "  background-color: var(--sklearn-color-unfitted-level-3);\n",
              "  color: var(--sklearn-color-background);\n",
              "  text-decoration: none;\n",
              "}\n",
              "\n",
              "div.sk-estimator.fitted:hover .sk-estimator-doc-link.fitted:hover,\n",
              ".sk-estimator-doc-link.fitted:hover,\n",
              "div.sk-label-container:hover .sk-estimator-doc-link.fitted:hover,\n",
              ".sk-estimator-doc-link.fitted:hover {\n",
              "  /* fitted */\n",
              "  background-color: var(--sklearn-color-fitted-level-3);\n",
              "  color: var(--sklearn-color-background);\n",
              "  text-decoration: none;\n",
              "}\n",
              "\n",
              "/* Span, style for the box shown on hovering the info icon */\n",
              ".sk-estimator-doc-link span {\n",
              "  display: none;\n",
              "  z-index: 9999;\n",
              "  position: relative;\n",
              "  font-weight: normal;\n",
              "  right: .2ex;\n",
              "  padding: .5ex;\n",
              "  margin: .5ex;\n",
              "  width: min-content;\n",
              "  min-width: 20ex;\n",
              "  max-width: 50ex;\n",
              "  color: var(--sklearn-color-text);\n",
              "  box-shadow: 2pt 2pt 4pt #999;\n",
              "  /* unfitted */\n",
              "  background: var(--sklearn-color-unfitted-level-0);\n",
              "  border: .5pt solid var(--sklearn-color-unfitted-level-3);\n",
              "}\n",
              "\n",
              ".sk-estimator-doc-link.fitted span {\n",
              "  /* fitted */\n",
              "  background: var(--sklearn-color-fitted-level-0);\n",
              "  border: var(--sklearn-color-fitted-level-3);\n",
              "}\n",
              "\n",
              ".sk-estimator-doc-link:hover span {\n",
              "  display: block;\n",
              "}\n",
              "\n",
              "/* \"?\"-specific style due to the `<a>` HTML tag */\n",
              "\n",
              "#sk-container-id-1 a.estimator_doc_link {\n",
              "  float: right;\n",
              "  font-size: 1rem;\n",
              "  line-height: 1em;\n",
              "  font-family: monospace;\n",
              "  background-color: var(--sklearn-color-background);\n",
              "  border-radius: 1rem;\n",
              "  height: 1rem;\n",
              "  width: 1rem;\n",
              "  text-decoration: none;\n",
              "  /* unfitted */\n",
              "  color: var(--sklearn-color-unfitted-level-1);\n",
              "  border: var(--sklearn-color-unfitted-level-1) 1pt solid;\n",
              "}\n",
              "\n",
              "#sk-container-id-1 a.estimator_doc_link.fitted {\n",
              "  /* fitted */\n",
              "  border: var(--sklearn-color-fitted-level-1) 1pt solid;\n",
              "  color: var(--sklearn-color-fitted-level-1);\n",
              "}\n",
              "\n",
              "/* On hover */\n",
              "#sk-container-id-1 a.estimator_doc_link:hover {\n",
              "  /* unfitted */\n",
              "  background-color: var(--sklearn-color-unfitted-level-3);\n",
              "  color: var(--sklearn-color-background);\n",
              "  text-decoration: none;\n",
              "}\n",
              "\n",
              "#sk-container-id-1 a.estimator_doc_link.fitted:hover {\n",
              "  /* fitted */\n",
              "  background-color: var(--sklearn-color-fitted-level-3);\n",
              "}\n",
              "</style><div id=\"sk-container-id-1\" class=\"sk-top-container\"><div class=\"sk-text-repr-fallback\"><pre>Pipeline(steps=[(&#x27;polynomial&#x27;, PolynomialFeatures()),\n",
              "                (&#x27;scale&#x27;, StandardScaler()),\n",
              "                (&#x27;model&#x27;,\n",
              "                 XGBRegressor(base_score=None, booster=None, callbacks=None,\n",
              "                              colsample_bylevel=None, colsample_bynode=None,\n",
              "                              colsample_bytree=None, device=None,\n",
              "                              early_stopping_rounds=None,\n",
              "                              enable_categorical=False, eval_metric=None,\n",
              "                              feature_types=None, gamma=None, grow_policy=None,\n",
              "                              importance_type=None,\n",
              "                              interaction_constraints=None, learning_rate=0.1,\n",
              "                              max_bin=None, max_cat_threshold=None,\n",
              "                              max_cat_to_onehot=None, max_delta_step=None,\n",
              "                              max_depth=6, max_leaves=None,\n",
              "                              min_child_weight=None, missing=nan,\n",
              "                              monotone_constraints=None, multi_strategy=None,\n",
              "                              n_estimators=100, n_jobs=None,\n",
              "                              num_parallel_tree=None, random_state=None, ...))])</pre><b>In a Jupyter environment, please rerun this cell to show the HTML representation or trust the notebook. <br />On GitHub, the HTML representation is unable to render, please try loading this page with nbviewer.org.</b></div><div class=\"sk-container\" hidden><div class=\"sk-item sk-dashed-wrapped\"><div class=\"sk-label-container\"><div class=\"sk-label fitted sk-toggleable\"><input class=\"sk-toggleable__control sk-hidden--visually\" id=\"sk-estimator-id-1\" type=\"checkbox\" ><label for=\"sk-estimator-id-1\" class=\"sk-toggleable__label fitted sk-toggleable__label-arrow fitted\">&nbsp;&nbsp;Pipeline<a class=\"sk-estimator-doc-link fitted\" rel=\"noreferrer\" target=\"_blank\" href=\"https://scikit-learn.org/1.5/modules/generated/sklearn.pipeline.Pipeline.html\">?<span>Documentation for Pipeline</span></a><span class=\"sk-estimator-doc-link fitted\">i<span>Fitted</span></span></label><div class=\"sk-toggleable__content fitted\"><pre>Pipeline(steps=[(&#x27;polynomial&#x27;, PolynomialFeatures()),\n",
              "                (&#x27;scale&#x27;, StandardScaler()),\n",
              "                (&#x27;model&#x27;,\n",
              "                 XGBRegressor(base_score=None, booster=None, callbacks=None,\n",
              "                              colsample_bylevel=None, colsample_bynode=None,\n",
              "                              colsample_bytree=None, device=None,\n",
              "                              early_stopping_rounds=None,\n",
              "                              enable_categorical=False, eval_metric=None,\n",
              "                              feature_types=None, gamma=None, grow_policy=None,\n",
              "                              importance_type=None,\n",
              "                              interaction_constraints=None, learning_rate=0.1,\n",
              "                              max_bin=None, max_cat_threshold=None,\n",
              "                              max_cat_to_onehot=None, max_delta_step=None,\n",
              "                              max_depth=6, max_leaves=None,\n",
              "                              min_child_weight=None, missing=nan,\n",
              "                              monotone_constraints=None, multi_strategy=None,\n",
              "                              n_estimators=100, n_jobs=None,\n",
              "                              num_parallel_tree=None, random_state=None, ...))])</pre></div> </div></div><div class=\"sk-serial\"><div class=\"sk-item\"><div class=\"sk-estimator fitted sk-toggleable\"><input class=\"sk-toggleable__control sk-hidden--visually\" id=\"sk-estimator-id-2\" type=\"checkbox\" ><label for=\"sk-estimator-id-2\" class=\"sk-toggleable__label fitted sk-toggleable__label-arrow fitted\">&nbsp;PolynomialFeatures<a class=\"sk-estimator-doc-link fitted\" rel=\"noreferrer\" target=\"_blank\" href=\"https://scikit-learn.org/1.5/modules/generated/sklearn.preprocessing.PolynomialFeatures.html\">?<span>Documentation for PolynomialFeatures</span></a></label><div class=\"sk-toggleable__content fitted\"><pre>PolynomialFeatures()</pre></div> </div></div><div class=\"sk-item\"><div class=\"sk-estimator fitted sk-toggleable\"><input class=\"sk-toggleable__control sk-hidden--visually\" id=\"sk-estimator-id-3\" type=\"checkbox\" ><label for=\"sk-estimator-id-3\" class=\"sk-toggleable__label fitted sk-toggleable__label-arrow fitted\">&nbsp;StandardScaler<a class=\"sk-estimator-doc-link fitted\" rel=\"noreferrer\" target=\"_blank\" href=\"https://scikit-learn.org/1.5/modules/generated/sklearn.preprocessing.StandardScaler.html\">?<span>Documentation for StandardScaler</span></a></label><div class=\"sk-toggleable__content fitted\"><pre>StandardScaler()</pre></div> </div></div><div class=\"sk-item\"><div class=\"sk-estimator fitted sk-toggleable\"><input class=\"sk-toggleable__control sk-hidden--visually\" id=\"sk-estimator-id-4\" type=\"checkbox\" ><label for=\"sk-estimator-id-4\" class=\"sk-toggleable__label fitted sk-toggleable__label-arrow fitted\">XGBRegressor</label><div class=\"sk-toggleable__content fitted\"><pre>XGBRegressor(base_score=None, booster=None, callbacks=None,\n",
              "             colsample_bylevel=None, colsample_bynode=None,\n",
              "             colsample_bytree=None, device=None, early_stopping_rounds=None,\n",
              "             enable_categorical=False, eval_metric=None, feature_types=None,\n",
              "             gamma=None, grow_policy=None, importance_type=None,\n",
              "             interaction_constraints=None, learning_rate=0.1, max_bin=None,\n",
              "             max_cat_threshold=None, max_cat_to_onehot=None,\n",
              "             max_delta_step=None, max_depth=6, max_leaves=None,\n",
              "             min_child_weight=None, missing=nan, monotone_constraints=None,\n",
              "             multi_strategy=None, n_estimators=100, n_jobs=None,\n",
              "             num_parallel_tree=None, random_state=None, ...)</pre></div> </div></div></div></div></div></div>"
            ],
            "text/plain": [
              "Pipeline(steps=[('polynomial', PolynomialFeatures()),\n",
              "                ('scale', StandardScaler()),\n",
              "                ('model',\n",
              "                 XGBRegressor(base_score=None, booster=None, callbacks=None,\n",
              "                              colsample_bylevel=None, colsample_bynode=None,\n",
              "                              colsample_bytree=None, device=None,\n",
              "                              early_stopping_rounds=None,\n",
              "                              enable_categorical=False, eval_metric=None,\n",
              "                              feature_types=None, gamma=None, grow_policy=None,\n",
              "                              importance_type=None,\n",
              "                              interaction_constraints=None, learning_rate=0.1,\n",
              "                              max_bin=None, max_cat_threshold=None,\n",
              "                              max_cat_to_onehot=None, max_delta_step=None,\n",
              "                              max_depth=6, max_leaves=None,\n",
              "                              min_child_weight=None, missing=nan,\n",
              "                              monotone_constraints=None, multi_strategy=None,\n",
              "                              n_estimators=100, n_jobs=None,\n",
              "                              num_parallel_tree=None, random_state=None, ...))])"
            ]
          },
          "execution_count": 61,
          "metadata": {},
          "output_type": "execute_result"
        }
      ],
      "source": [
        "pipe.fit(x_train_sample,y_train_sample)"
      ]
    },
    {
      "cell_type": "code",
      "execution_count": 62,
      "metadata": {
        "colab": {
          "base_uri": "https://localhost:8080/"
        },
        "id": "a0803374",
        "outputId": "d94e4db9-00d0-4ddf-a9d1-461c59abe5e7"
      },
      "outputs": [
        {
          "data": {
            "text/plain": [
              "array([213.155   ,   4.276422,  -6.202627, ..., 174.23343 ,  91.34469 ,\n",
              "       482.4816  ], dtype=float32)"
            ]
          },
          "execution_count": 62,
          "metadata": {},
          "output_type": "execute_result"
        }
      ],
      "source": [
        "yhat=pipe.predict(x_test)\n",
        "yhat"
      ]
    },
    {
      "cell_type": "code",
      "execution_count": 63,
      "metadata": {
        "colab": {
          "base_uri": "https://localhost:8080/"
        },
        "id": "515517ad",
        "outputId": "4fda2fa6-e607-43ec-a868-7c463c3f7887"
      },
      "outputs": [
        {
          "name": "stdout",
          "output_type": "stream",
          "text": [
            "MAE: 25.022527109912197\n",
            "MSE: 1963.2979231528996\n",
            "R²: 0.9414640912949802\n"
          ]
        }
      ],
      "source": [
        "from sklearn.metrics import mean_absolute_error, mean_squared_error, r2_score\n",
        "\n",
        "mae = mean_absolute_error(y_test, yhat)\n",
        "mse = mean_squared_error(y_test, yhat)\n",
        "r2 = r2_score(y_test, yhat)\n",
        "\n",
        "print(f\"MAE: {mae}\")\n",
        "print(f\"MSE: {mse}\")\n",
        "print(f\"R²: {r2}\")"
      ]
    },
    {
      "cell_type": "code",
      "execution_count": 64,
      "metadata": {
        "colab": {
          "base_uri": "https://localhost:8080/"
        },
        "id": "75176f12",
        "outputId": "d7686ce6-6070-4ebd-d73b-13e8bdb4772e"
      },
      "outputs": [
        {
          "data": {
            "text/plain": [
              "array([ -0.87466776,  -3.3683343 , 137.51178   , ..., 258.6608    ,\n",
              "        49.49724   ,  -8.284218  ], dtype=float32)"
            ]
          },
          "execution_count": 64,
          "metadata": {},
          "output_type": "execute_result"
        }
      ],
      "source": [
        "sales_predictions = pipe.predict(X_test_final)\n",
        "sales_predictions"
      ]
    },
    {
      "cell_type": "code",
      "execution_count": 65,
      "metadata": {
        "colab": {
          "base_uri": "https://localhost:8080/",
          "height": 465
        },
        "id": "03262822",
        "outputId": "61b8a119-e01b-49fd-8f9c-f3597063e3be"
      },
      "outputs": [
        {
          "data": {
            "image/png": "[encoded data removed]",
            "text/plain": [
              "<Figure size 1000x500 with 1 Axes>"
            ]
          },
          "metadata": {},
          "output_type": "display_data"
        }
      ],
      "source": [
        "plt.figure(figsize=(10,5))\n",
        "ax1 = sns.kdeplot(y, color=\"r\", label=\"Actual Value\")\n",
        "sns.kdeplot(yhat, color=\"b\", label=\"Fitted Values\" , ax=ax1)\n",
        "\n",
        "\n",
        "plt.show()\n",
        "plt.close()"
      ]
    },
    {
      "cell_type": "markdown",
      "metadata": {},
      "source": [
        "k-means model"
      ]
    },
    {
      "cell_type": "code",
      "execution_count": null,
      "metadata": {},
      "outputs": [],
      "source": [
        "from sklearn.cluster import KMeans\n",
        "from sklearn.preprocessing import StandardScaler\n",
        "from sklearn.metrics import silhouette_score\n",
        "import matplotlib.pyplot as plt\n",
        "import pandas as pd\n",
        "\n",
        "# Load and prepare data\n",
        "store_data = pd.read_csv(r'/content/transactions.csv')\n",
        "train = pd.read_csv(r'/content/train.csv')\n",
        "\n",
        "# Group by store and aggregate sales and promotions\n",
        "store_agg = train.groupby('store_nbr').agg({\n",
        "    'sales': 'sum',\n",
        "    'onpromotion': 'sum'\n",
        "}).reset_index()\n",
        "\n",
        "# Normalize the data for clustering\n",
        "scaler = StandardScaler()\n",
        "X_scaled = scaler.fit_transform(store_agg[['sales', 'onpromotion']])\n",
        "\n",
        "# Elbow Method\n",
        "inertia = []\n",
        "silhouette_scores = []\n",
        "k_values = range(2, 11)  # Testing for k from 2 to 10\n",
        "\n",
        "for k in k_values:\n",
        "    kmeans = KMeans(n_clusters=k, random_state=42)\n",
        "    kmeans.fit(X_scaled)\n",
        "    \n",
        "    inertia.append(kmeans.inertia_)\n",
        "    silhouette_scores.append(silhouette_score(X_scaled, kmeans.labels_))\n",
        "\n",
        "# Plotting Elbow Method\n",
        "plt.figure(figsize=(14, 6))\n",
        "\n",
        "# Elbow plot\n",
        "plt.subplot(1, 2, 1)\n",
        "plt.plot(k_values, inertia, marker='o')\n",
        "plt.title('Elbow Method')\n",
        "plt.xlabel('Number of Clusters (k)')\n",
        "plt.ylabel('Inertia')\n"
      ]
    },
    {
      "cell_type": "markdown",
      "metadata": {},
      "source": [
        "Arima model"
      ]
    },
    {
      "cell_type": "code",
      "execution_count": null,
      "metadata": {},
      "outputs": [],
      "source": [
        "import numpy as np # linear algebra\n",
        "import pandas as pd # data processing, CSV file I/O (e.g. pd.read_csv)\n",
        "\n",
        "import warnings\n",
        "warnings.filterwarnings(\"ignore\")\n",
        "\n",
        "# Loading packages for time series analysis and visualization\n",
        "import matplotlib.pyplot as plt\n",
        "import seaborn as sns\n",
        "from statsmodels.tsa.seasonal import seasonal_decompose\n",
        "from statsmodels.graphics.tsaplots import plot_acf, plot_pacf\n",
        "from statsmodels.tsa.arima.model import ARIMA\n",
        "\n",
        "# Loading data\n",
        "path = '/content/'\n",
        "train = pd.read_csv(path+'train.csv', parse_dates=True, low_memory=False, index_col='date')\n",
        "\n",
        "# Applying ARIMA\n",
        "model = ARIMA(train['sales'], order=(5, 1, 0))\n",
        "model_fit = model.fit()\n",
        "\n",
        "# Summary of the ARIMA model\n",
        "print(model_fit.summary())\n",
        "\n",
        "# Forecasting\n",
        "forecast = model_fit.forecast(steps=30)\n",
        "plt.figure(figsize=(10,6))\n",
        "plt.plot(train.index, train['sales'], label='Train Data')\n",
        "plt.plot(forecast.index, forecast, label='Forecast', color='red')\n",
        "plt.title('ARIMA Model Forecast')\n",
        "plt.legend()\n",
        "plt.show()\n"
      ]
    },
    {
      "cell_type": "markdown",
      "metadata": {},
      "source": [
        "Plot the Prophet Forecast model"
      ]
    },
    {
      "cell_type": "code",
      "execution_count": null,
      "metadata": {},
      "outputs": [],
      "source": [
        "# visualizing predicions\n",
        "my_model.plot(forecast);"
      ]
    },
    {
      "cell_type": "code",
      "execution_count": null,
      "metadata": {},
      "outputs": [],
      "source": [
        "my_model.plot_components(forecast);"
      ]
    },
    {
      "cell_type": "code",
      "execution_count": 67,
      "metadata": {
        "id": "548b7d10"
      },
      "outputs": [],
      "source": [
        "submission = pd.DataFrame({\n",
        "    'id': test['id'],\n",
        "    'sales': sales_predictions\n",
        "})\n",
        "submission.to_csv('submission111.csv', index=False)\n"
      ]
    },
    {
      "cell_type": "code",
      "execution_count": 69,
      "metadata": {
        "colab": {
          "base_uri": "https://localhost:8080/"
        },
        "id": "Wa1raWFpVOPF",
        "outputId": "24996c5d-92af-413d-ce43-b33bbf1e938f"
      },
      "outputs": [
        {
          "name": "stdout",
          "output_type": "stream",
          "text": [
            "Collecting dash\n",
            "  Downloading dash-2.18.1-py3-none-any.whl.metadata (10 kB)\n",
            "Requirement already satisfied: Flask<3.1,>=1.0.4 in /usr/local/lib/python3.10/dist-packages (from dash) (2.2.5)\n",
            "Requirement already satisfied: Werkzeug<3.1 in /usr/local/lib/python3.10/dist-packages (from dash) (3.0.4)\n",
            "Requirement already satisfied: plotly>=5.0.0 in /usr/local/lib/python3.10/dist-packages (from dash) (5.24.1)\n",
            "Collecting dash-html-components==2.0.0 (from dash)\n",
            "  Downloading dash_html_components-2.0.0-py3-none-any.whl.metadata (3.8 kB)\n",
            "Collecting dash-core-components==2.0.0 (from dash)\n",
            "  Downloading dash_core_components-2.0.0-py3-none-any.whl.metadata (2.9 kB)\n",
            "Collecting dash-table==5.0.0 (from dash)\n",
            "  Downloading dash_table-5.0.0-py3-none-any.whl.metadata (2.4 kB)\n",
            "Requirement already satisfied: importlib-metadata in /usr/local/lib/python3.10/dist-packages (from dash) (8.5.0)\n",
            "Requirement already satisfied: typing-extensions>=4.1.1 in /usr/local/lib/python3.10/dist-packages (from dash) (4.12.2)\n",
            "Requirement already satisfied: requests in /usr/local/lib/python3.10/dist-packages (from dash) (2.32.3)\n",
            "Collecting retrying (from dash)\n",
            "  Downloading retrying-1.3.4-py3-none-any.whl.metadata (6.9 kB)\n",
            "Requirement already satisfied: nest-asyncio in /usr/local/lib/python3.10/dist-packages (from dash) (1.6.0)\n",
            "Requirement already satisfied: setuptools in /usr/local/lib/python3.10/dist-packages (from dash) (71.0.4)\n",
            "Requirement already satisfied: Jinja2>=3.0 in /usr/local/lib/python3.10/dist-packages (from Flask<3.1,>=1.0.4->dash) (3.1.4)\n",
            "Requirement already satisfied: itsdangerous>=2.0 in /usr/local/lib/python3.10/dist-packages (from Flask<3.1,>=1.0.4->dash) (2.2.0)\n",
            "Requirement already satisfied: click>=8.0 in /usr/local/lib/python3.10/dist-packages (from Flask<3.1,>=1.0.4->dash) (8.1.7)\n",
            "Requirement already satisfied: tenacity>=6.2.0 in /usr/local/lib/python3.10/dist-packages (from plotly>=5.0.0->dash) (9.0.0)\n",
            "Requirement already satisfied: packaging in /usr/local/lib/python3.10/dist-packages (from plotly>=5.0.0->dash) (24.1)\n",
            "Requirement already satisfied: MarkupSafe>=2.1.1 in /usr/local/lib/python3.10/dist-packages (from Werkzeug<3.1->dash) (3.0.1)\n",
            "Requirement already satisfied: zipp>=3.20 in /usr/local/lib/python3.10/dist-packages (from importlib-metadata->dash) (3.20.2)\n",
            "Requirement already satisfied: charset-normalizer<4,>=2 in /usr/local/lib/python3.10/dist-packages (from requests->dash) (3.4.0)\n",
            "Requirement already satisfied: idna<4,>=2.5 in /usr/local/lib/python3.10/dist-packages (from requests->dash) (3.10)\n",
            "Requirement already satisfied: urllib3<3,>=1.21.1 in /usr/local/lib/python3.10/dist-packages (from requests->dash) (2.2.3)\n",
            "Requirement already satisfied: certifi>=2017.4.17 in /usr/local/lib/python3.10/dist-packages (from requests->dash) (2024.8.30)\n",
            "Requirement already satisfied: six>=1.7.0 in /usr/local/lib/python3.10/dist-packages (from retrying->dash) (1.16.0)\n",
            "Downloading dash-2.18.1-py3-none-any.whl (7.5 MB)\n",
            "\u001b[2K   \u001b[90m━━━━━━━━━━━━━━━━━━━━━━━━━━━━━━━━━━━━━━━━\u001b[0m \u001b[32m7.5/7.5 MB\u001b[0m \u001b[31m24.4 MB/s\u001b[0m eta \u001b[36m0:00:00\u001b[0m\n",
            "\u001b[?25hDownloading dash_core_components-2.0.0-py3-none-any.whl (3.8 kB)\n",
            "Downloading dash_html_components-2.0.0-py3-none-any.whl (4.1 kB)\n",
            "Downloading dash_table-5.0.0-py3-none-any.whl (3.9 kB)\n",
            "Downloading retrying-1.3.4-py3-none-any.whl (11 kB)\n",
            "Installing collected packages: dash-table, dash-html-components, dash-core-components, retrying, dash\n",
            "Successfully installed dash-2.18.1 dash-core-components-2.0.0 dash-html-components-2.0.0 dash-table-5.0.0 retrying-1.3.4\n"
          ]
        }
      ],
      "source": [
        "pip install dash\n"
      ]
    },
    {
      "cell_type": "code",
      "execution_count": 70,
      "metadata": {
        "colab": {
          "base_uri": "https://localhost:8080/",
          "height": 671
        },
        "id": "Fc3c8Vc1Ts49",
        "outputId": "a6691931-22a6-4657-e80a-7635a8e37b1e"
      },
      "outputs": [
        {
          "data": {
            "application/javascript": "(async (port, path, width, height, cache, element) => {\n    if (!google.colab.kernel.accessAllowed && !cache) {\n      return;\n    }\n    element.appendChild(document.createTextNode(''));\n    const url = await google.colab.kernel.proxyPort(port, {cache});\n    const iframe = document.createElement('iframe');\n    iframe.src = new URL(path, url).toString();\n    iframe.height = height;\n    iframe.width = width;\n    iframe.style.border = 0;\n    iframe.allow = [\n        'accelerometer',\n        'autoplay',\n        'camera',\n        'clipboard-read',\n        'clipboard-write',\n        'gyroscope',\n        'magnetometer',\n        'microphone',\n        'serial',\n        'usb',\n        'xr-spatial-tracking',\n    ].join('; ');\n    element.appendChild(iframe);\n  })(8050, \"/\", \"100%\", 650, false, window.element)",
            "text/plain": [
              "<IPython.core.display.Javascript object>"
            ]
          },
          "metadata": {},
          "output_type": "display_data"
        }
      ],
      "source": [
        "import dash\n",
        "from dash import dcc, html\n",
        "from dash.dependencies import Input, Output\n",
        "import plotly.express as px\n",
        "import pandas as pd\n",
        "\n",
        "# Load your data\n",
        "train = pd.read_csv(r'/content/train.csv')\n",
        "train['date'] = pd.to_datetime(train['date'])\n",
        "\n",
        "# Pre-compute data to avoid repeated calculations in callbacks\n",
        "# Group by family and store n° for total sales by category\n",
        "category_sales = train.groupby('family')['sales'].sum().reset_index()\n",
        "\n",
        "# Group by date and store n° for sales trends\n",
        "sales_trend = train.groupby(['date', 'store_nbr'])['sales'].sum().reset_index()\n",
        "\n",
        "# Group by date and family for promotions\n",
        "promotion_heatmap_data = train.groupby(['date', 'family'])['onpromotion'].sum().reset_index()\n",
        "\n",
        "# Initialize Dash app\n",
        "app = dash.Dash(__name__)\n",
        "\n",
        "# App layout with multiple visualizations\n",
        "app.layout = html.Div([\n",
        "    html.H1(\"Promotions and Sales Dashboard\"),\n",
        "\n",
        "    # Dropdown for selecting store (ordered)\n",
        "    dcc.Dropdown(\n",
        "        id='store-dropdown',\n",
        "        options=[{'label': str(store), 'value': store} for store in sorted(train['store_nbr'].unique())],\n",
        "        value=sorted(train['store_nbr'].unique())[0],\n",
        "        multi=False\n",
        "    ),\n",
        "\n",
        "    # Graphs\n",
        "    dcc.Graph(id='sales-promotion-graph'),\n",
        "    dcc.Graph(id='category-sales-bar'),\n",
        "    dcc.Graph(id='sales-trend-line'),\n",
        "    dcc.Graph(id='promotion-heatmap'),\n",
        "    dcc.Graph(id='sales-boxplot'),\n",
        "])\n",
        "\n",
        "# Callback to update all graphs based on selected store\n",
        "@app.callback(\n",
        "    [Output('sales-promotion-graph', 'figure'),\n",
        "     Output('category-sales-bar', 'figure'),\n",
        "     Output('sales-trend-line', 'figure'),\n",
        "     Output('promotion-heatmap', 'figure'),\n",
        "     Output('sales-boxplot', 'figure')],\n",
        "    [Input('store-dropdown', 'value')]\n",
        ")\n",
        "def update_graphs(selected_store):\n",
        "    # Filter data for the selected store\n",
        "    filtered_data = train[train['store_nbr'] == selected_store]\n",
        "\n",
        "    # 1. Sales vs. Promotions by Store (Line Chart)\n",
        "    sales_promotion_fig = px.line(\n",
        "        filtered_data,\n",
        "        x='date',\n",
        "        y='sales',\n",
        "        color='onpromotion',\n",
        "        title=f\"Sales vs. Promotions for Store {selected_store}\"\n",
        "    )\n",
        "\n",
        "    # 2. Total Sales by Product Category (Bar Chart)\n",
        "    category_sales_fig = px.bar(\n",
        "        category_sales,\n",
        "        x='family',\n",
        "        y='sales',\n",
        "        title=\"Total Sales by Product Category\"\n",
        "    )\n",
        "\n",
        "    # 3. Sales Trend by Date for Different Stores (Line Chart)\n",
        "    sales_trend_fig = px.line(\n",
        "        sales_trend,\n",
        "        x='date',\n",
        "        y='sales',\n",
        "        color='store_nbr',\n",
        "        title=\"Sales Trend by Date for Different Stores\"\n",
        "    )\n",
        "\n",
        "    # 4. Promotions by Product Category Over Time (Heatmap)\n",
        "    promotion_heatmap_fig = px.density_heatmap(\n",
        "        promotion_heatmap_data,\n",
        "        x='date',\n",
        "        y='family',\n",
        "        z='onpromotion',\n",
        "        title=\"Promotions by Product Category Over Time\"\n",
        "    )\n",
        "\n",
        "    # 5. Sales Distribution Across Stores (Box Plot)\n",
        "    sales_boxplot_fig = px.box(\n",
        "        train,\n",
        "        x='store_nbr',\n",
        "        y='sales',\n",
        "        title=\"Sales Distribution Across Stores\"\n",
        "    )\n",
        "\n",
        "    return sales_promotion_fig, category_sales_fig, sales_trend_fig, promotion_heatmap_fig, sales_boxplot_fig\n",
        "\n",
        "# Run app\n",
        "if __name__ == '__main__':\n",
        "    app.run_server(debug=True)\n"
      ]
    },
    {
      "cell_type": "code",
      "execution_count": null,
      "metadata": {
        "id": "pjxx_7xXVLfw"
      },
      "outputs": [],
      "source": []
    }
  ],
  "metadata": {
    "colab": {
      "provenance": []
    },
    "kernelspec": {
      "display_name": "Python 3",
      "name": "python3"
    },
    "language_info": {
      "name": "python",
      "version": "3.12.3"
    }
  },
  "nbformat": 4,
  "nbformat_minor": 0
}
